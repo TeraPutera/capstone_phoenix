{
 "cells": [
  {
   "cell_type": "markdown",
   "metadata": {
    "cell_id": "00000-e164a930-6a17-402e-ae1f-a4f502f191e8",
    "deepnote_cell_type": "markdown",
    "tags": []
   },
   "source": [
    "# Capstone Telegram Chatbot"
   ]
  },
  {
   "cell_type": "markdown",
   "metadata": {
    "cell_id": "00001-5bd5ce8f-c78f-4e82-9290-6b796df69c35",
    "deepnote_cell_type": "markdown",
    "tags": []
   },
   "source": [
    "This notebook is used to guide you in working on building the Telegram chatbot apps for Algoritma Academy Data Analytics Specialization Capstone Project.\n",
    "\n",
    "**MAIN GOAL:** Create a bot that can provide report on Facebook daily ads for different marketing campaign. Here is an example: https://t.me/algo_capstone_telebot\n",
    "\n",
    "![](assets/readme/telegram-bot.png)\n",
    "\n",
    "---\n",
    "\n",
    "There are several conventions we used in this notebook:\n",
    "\n",
    "- **TO DO** = Section need to be completed\n",
    "- **EXPECTED OUTPUT** = Reference output for coding section\n",
    "- **CHECKPOINT** = Review and continue your coding in the Python script file `.py`\n",
    "- **NOTE** = Additional information that is important for you to know"
   ]
  },
  {
   "cell_type": "markdown",
   "metadata": {
    "cell_id": "00002-9a9b3a5c-c35a-49c7-836b-fb72a980e492",
    "deepnote_cell_type": "markdown",
    "tags": []
   },
   "source": [
    "# Setup"
   ]
  },
  {
   "cell_type": "markdown",
   "metadata": {
    "cell_id": "00003-aaee0fd4-9241-4f9b-878d-ccab05ad9044",
    "deepnote_cell_type": "markdown",
    "tags": []
   },
   "source": [
    "## Virtual Environment"
   ]
  },
  {
   "cell_type": "markdown",
   "metadata": {
    "cell_id": "00004-799cf6bf-d386-4c85-874e-3dac3baa5aa4",
    "deepnote_cell_type": "markdown",
    "tags": []
   },
   "source": [
    "There are few prerequisites needed for this project. First, you will need to prepare a new `conda` environment installed with all package dependencies. \n",
    "\n",
    "**TO DO:**\n",
    "\n",
    "Please follow through with the following command to create a new `conda` environment and install the dependencies:\n",
    "\n",
    "1. Create a new `conda` environment named **capstone-telebot** using Python version 3.8 and activate it:\n",
    "    ```\n",
    "    conda create -n capstone-telebot python=3.8\n",
    "    conda activate capstone-telebot\n",
    "    ```\n",
    "\n",
    "2. Since it is beneficial for us to create a draft using Jupyter Notebook, let's also create an IPython Kernel using the following command:\n",
    "    ```\n",
    "    pip install ipykernel\n",
    "    python -m ipykernel install --user --name=capstone-telebot\n",
    "    ```\n",
    "\n",
    "3. Change the directory of your terminal (or Anaconda Prompt) to the downloaded repository:\n",
    "    ```\n",
    "    cd <PATH_TO_FOLDER>\n",
    "    ```\n",
    "\n",
    "    Example: `cd C:\\Users\\USER\\Desktop\\Algoritma\\telebot-master`\n",
    "\n",
    "4. Install the dependencies:\n",
    "    ```\n",
    "    pip install -r requirements.txt\n",
    "    ```\n",
    "\n",
    "    If you encounter error during installation, make sure you have a stable connection and turn off your firewall during installation. \n",
    "\n",
    "5. (**For Windows user only**) Install Windows API for Python inside the environment:\n",
    "    ```\n",
    "    conda install -c conda-forge pywin32\n",
    "    ```"
   ]
  },
  {
   "cell_type": "markdown",
   "metadata": {
    "cell_id": "00005-b3e4b6fd-e12f-47f4-983a-347bea1eff5d",
    "deepnote_cell_type": "markdown",
    "tags": []
   },
   "source": [
    "## Telegram Bot API"
   ]
  },
  {
   "cell_type": "markdown",
   "metadata": {
    "cell_id": "00006-96e136b1-bab4-43b8-82d4-a94239e5895c",
    "deepnote_cell_type": "markdown",
    "tags": []
   },
   "source": [
    "**API** stands for *Application Programming Interface*. It is a set of functions and procedures that allow for the creation of applications that access data and features of other applications, services, or operating systems. \n",
    "\n",
    "Telegram allows user to connect bots to their system by providing **Telegram Bot API**. Even better, to create bots in Telegram, you're not required set up the API connection manually. All you need to do is to talk to [BotFather](https://t.me/botfather), a bot provided by Telegram to help their users to create new bots or change the bots settings.\n",
    "\n",
    "**TO DO:**\n",
    "\n",
    "To get started, make sure you have registered a Telegram account from your mobile phone (you can't create new Telegram account through its desktop app). Once you've registered, you can access its desktop app through  https://web.telegram.org/ and follow the steps below:\n",
    "\n",
    "1. Start a chat with [BotFather](https://t.me/botfather)\n",
    "2. Use the **/newbot** command to create a new bot. The BotFather will ask you for a name and username. For the username, make sure you follow this format: *DACP\\_(BATCH)_(NAME)_bot* e.g. DACP_PHOENIX_TOMY.\n",
    "3. Once you've completed, BotFather will generate an authorization token for your new bot. **NOTE:** Please do treat your token as your personal password, keep it secure by not sharing it to another person.\n",
    "4. Optionally, you can set your bot information using the following commands:\n",
    "    - **/setdescription** - change bot description\n",
    "    - **/setabouttext** - change bot about info\n",
    "    - **/setuserpic** - change bot profile photo"
   ]
  },
  {
   "cell_type": "markdown",
   "metadata": {
    "cell_id": "00007-dc2b3e58-af0e-4742-a540-9acf9dbb1ea8",
    "deepnote_cell_type": "markdown",
    "tags": []
   },
   "source": [
    "## Store Your Token Securely"
   ]
  },
  {
   "cell_type": "markdown",
   "metadata": {
    "cell_id": "00008-baa4d43f-4ba3-4861-97e0-cc847c7346c8",
    "deepnote_cell_type": "markdown",
    "tags": []
   },
   "source": [
    "The program will later need to access Telegram bot API via token. Usually we store a value as a variable explicitly, for example: `variable = \"value\"`. \n",
    "\n",
    "**TO DO:**\n",
    "\n",
    "To avoid the token being hardcoded and exposed to the public, you are required to create an environment variable called `TOKEN`:\n",
    "\n",
    "1. Open `.env` file inside the project folder. You can use any text editor application, such as notepad.\n",
    "2. Paste your API token inside and assign it to `TOKEN`\n",
    "\n",
    "    ```\n",
    "    TOKEN = \"PASTE_YOUR_TOKEN_HERE\"\n",
    "    ```\n",
    "\n",
    "3. Use the following code to import the `TOKEN` variable from `.env` to your Python environment."
   ]
  },
  {
   "cell_type": "code",
   "execution_count": 1,
   "metadata": {
    "cell_id": "00009-0566b61e-fb7a-499b-b969-1ab0b2de8ae2",
    "deepnote_cell_type": "code",
    "deepnote_to_be_reexecuted": false,
    "execution_millis": 10,
    "execution_start": 1629360585861,
    "output_cleared": true,
    "source_hash": "df4fd229",
    "tags": []
   },
   "outputs": [
    {
     "name": "stdout",
     "output_type": "stream",
     "text": [
      "Length of TOKEN: 46 characters\n"
     ]
    }
   ],
   "source": [
    "from dotenv import load_dotenv\n",
    "import os\n",
    "\n",
    "load_dotenv()\n",
    "TOKEN = os.environ['TOKEN']\n",
    "\n",
    "print(f'Length of TOKEN: {len(TOKEN)} characters')"
   ]
  },
  {
   "cell_type": "markdown",
   "metadata": {
    "cell_id": "00010-884255d1-a9da-4079-8679-5857655e294d",
    "deepnote_cell_type": "markdown",
    "tags": []
   },
   "source": [
    "**NOTE:** Don't ever print out the `TOKEN` variable inside your notebook to avoid exposing your API token to the public.\n",
    "\n",
    "> Package dependencies: [python-dotenv](https://pypi.org/project/python-dotenv/)"
   ]
  },
  {
   "cell_type": "markdown",
   "metadata": {
    "cell_id": "00011-1cf7f460-a362-42a2-a0f3-5f6785697f90",
    "deepnote_cell_type": "markdown",
    "tags": []
   },
   "source": [
    "# Chatbot Functionalities"
   ]
  },
  {
   "cell_type": "markdown",
   "metadata": {
    "cell_id": "00012-4177651a-ba68-42c9-b340-09f2cbeba565",
    "deepnote_cell_type": "markdown",
    "tags": []
   },
   "source": [
    "## Basic Functionalities"
   ]
  },
  {
   "cell_type": "markdown",
   "metadata": {
    "cell_id": "00013-2ee858a3-d151-4b1b-8324-7fdc59e2927c",
    "deepnote_cell_type": "markdown",
    "tags": []
   },
   "source": [
    "In this section, we are going to learn how to create a Telegram chatbot using the `pyTelegramBotAPI` package."
   ]
  },
  {
   "cell_type": "markdown",
   "metadata": {
    "cell_id": "00014-49690a03-0522-474b-9045-a101124c5555",
    "deepnote_cell_type": "markdown",
    "tags": []
   },
   "source": [
    "### Simple bot"
   ]
  },
  {
   "cell_type": "markdown",
   "metadata": {
    "cell_id": "00015-b54813ba-3d1f-4b58-8899-472c79aba7e3",
    "deepnote_cell_type": "markdown",
    "tags": []
   },
   "source": [
    "The `TeleBot` class encapsulates all API calls in a single class. It provides functions such as `send_message`, `send_document`, and also several ways to listen for incoming messages."
   ]
  },
  {
   "cell_type": "code",
   "execution_count": 2,
   "metadata": {
    "cell_id": "00016-955b477c-0e76-45c1-baef-27a3542ddbb5",
    "deepnote_cell_type": "code",
    "deepnote_to_be_reexecuted": false,
    "execution_millis": 0,
    "execution_start": 1629360585862,
    "output_cleared": true,
    "source_hash": "cc0c6d4b",
    "tags": []
   },
   "outputs": [],
   "source": [
    "import telebot\n",
    "bot = telebot.TeleBot(TOKEN)"
   ]
  },
  {
   "cell_type": "markdown",
   "metadata": {
    "cell_id": "00017-f0163671-9282-4e0a-8dec-6d77af2559f0",
    "deepnote_cell_type": "markdown",
    "tags": []
   },
   "source": [
    "After defining the `bot` object, we need to register **message handlers** which define filters for a `message` must pass. If a `message` passes the filter, the function is triggered and the incoming `message` is passed as an argument.\n",
    "\n",
    "The code below define `send_welcome` function which will be called if a user triggers the `bot` with command **/start** or **/help**. Then, `bot` responds to the incoming `message` by sending a static `\"Hello World!\"` text message.\n",
    "\n",
    "**NOTE:** The function can have an arbitrary name, however, it must have only one parameter: `message`"
   ]
  },
  {
   "cell_type": "code",
   "execution_count": 3,
   "metadata": {
    "cell_id": "00018-291cc15c-e8cb-4c6c-98ad-41e84205147f",
    "deepnote_cell_type": "code",
    "deepnote_to_be_reexecuted": false,
    "execution_millis": 0,
    "execution_start": 1629360585862,
    "output_cleared": true,
    "source_hash": "979a847d",
    "tags": []
   },
   "outputs": [],
   "source": [
    "@bot.message_handler(commands=['start', 'help'])\n",
    "def send_welcome(message):\n",
    "    bot.reply_to(message, \"Hello World!\")"
   ]
  },
  {
   "cell_type": "markdown",
   "metadata": {
    "cell_id": "00019-64939062-f512-4912-ba29-db200ee03a05",
    "deepnote_cell_type": "markdown",
    "tags": []
   },
   "source": [
    "We use `.polling()` method to start the `bot`. Run the following cell code and try sending command **/start** or **/help** to your Telegram bot. The code must be running to keep the bot active. If you wish to run another cell code, please click the \"⬛\" button to stop the code execution."
   ]
  },
  {
   "cell_type": "code",
   "execution_count": 4,
   "metadata": {
    "cell_id": "00020-a469c286-31d8-4126-89e6-9029f9ba440c",
    "deepnote_cell_type": "code",
    "deepnote_to_be_reexecuted": false,
    "execution_millis": 22,
    "execution_start": 1629360585863,
    "output_cleared": true,
    "source_hash": "639da4b0",
    "tags": []
   },
   "outputs": [],
   "source": [
    "# bot.polling()"
   ]
  },
  {
   "cell_type": "markdown",
   "metadata": {
    "cell_id": "00021-c55308df-af6c-4b79-b2ab-0de595002121",
    "deepnote_cell_type": "markdown",
    "tags": []
   },
   "source": [
    "All together, a simple bot may only contain several lines of code as follows:\n",
    "\n",
    "```\n",
    "import telebot\n",
    "bot = telebot.TeleBot(TOKEN)\n",
    "\n",
    "@bot.message_handler(commands=['start', 'help'])\n",
    "def send_welcome(message):\n",
    "    bot.reply_to(message, \"Hello World!\")\n",
    "\n",
    "bot.polling()\n",
    "```\n",
    "\n",
    "> Package dependencies: [pyTelegramBotAPI](https://github.com/eternnoir/pyTelegramBotAPI)"
   ]
  },
  {
   "cell_type": "markdown",
   "metadata": {
    "cell_id": "00022-b543afa9-d8a7-4fcc-aced-a3ed6688ecdc",
    "deepnote_cell_type": "markdown",
    "tags": []
   },
   "source": [
    "### Understanding Message Object"
   ]
  },
  {
   "cell_type": "markdown",
   "metadata": {
    "cell_id": "00023-cc4c44d7-97a6-4639-aeba-ac8ff5125a3e",
    "deepnote_cell_type": "markdown",
    "tags": []
   },
   "source": [
    "Of course, at this point, we are not satisfied with a simple bot that just sends static text like the one we have created above. To interact dynamically with user information, let's dive deep to understand what a `message` object is.\n",
    "\n",
    "To make it easier for you to play around, we have pickled a `message` object namely `message_object.pkl`. It is an object of class `telebot.types.Message` which stores a lot of information from a message. Detailed description can be found on [Telegram Bot API Documentation: Message](https://core.telegram.org/bots/api#message)."
   ]
  },
  {
   "cell_type": "code",
   "execution_count": 5,
   "metadata": {
    "cell_id": "00024-bead9717-469c-40e5-be42-fcfe42964011",
    "deepnote_cell_type": "code",
    "deepnote_to_be_reexecuted": false,
    "execution_millis": 14,
    "execution_start": 1629360585885,
    "output_cleared": true,
    "source_hash": "e0f56210",
    "tags": []
   },
   "outputs": [
    {
     "name": "stdout",
     "output_type": "stream",
     "text": [
      "<class 'telebot.types.Message'>\n",
      "{'content_type': 'text', 'id': 204, 'message_id': 204, 'from_user': {'id': 727286868, 'is_bot': False, 'first_name': 'Algoritma', 'username': 'AlgoCapstone', 'last_name': None, 'language_code': 'en', 'can_join_groups': None, 'can_read_all_group_messages': None, 'supports_inline_queries': None}, 'date': 1622745226, 'chat': {'id': 727286868, 'type': 'private', 'title': None, 'username': 'AlgoCapstone', 'first_name': 'Algoritma', 'last_name': None, 'photo': None, 'bio': None, 'description': None, 'invite_link': None, 'pinned_message': None, 'permissions': None, 'slow_mode_delay': None, 'sticker_set_name': None, 'can_set_sticker_set': None, 'linked_chat_id': None, 'location': None}, 'forward_from': None, 'forward_from_chat': None, 'forward_from_message_id': None, 'forward_signature': None, 'forward_sender_name': None, 'forward_date': None, 'reply_to_message': None, 'edit_date': None, 'media_group_id': None, 'author_signature': None, 'text': '/help', 'entities': [<telebot.types.MessageEntit\n"
     ]
    }
   ],
   "source": [
    "import pickle\n",
    "\n",
    "with open('cache/message_object.pkl', 'rb') as f:\n",
    "    message = pickle.load(f)\n",
    "    print(type(message)) # print object type\n",
    "    print(str(message)[:1000]) # print only the first 1000 characters of message content"
   ]
  },
  {
   "cell_type": "markdown",
   "metadata": {},
   "source": [
    "The `message` object is similar to Python dictionary, it stores **key: value** pairs. To access a value inside `message` object, we can use a dot notation (`.`) - just like accessing an attribute. Consider the following:\n",
    "\n",
    "```{python}\n",
    "{\n",
    "    'from_user': {\n",
    "        'id': 727286868,\n",
    "        'is_bot': False,\n",
    "        'first_name': 'Algoritma',\n",
    "        'username': 'AlgoCapstone',\n",
    "        'last_name': None\n",
    "        }\n",
    "}\n",
    "```\n",
    "\n",
    "For example: let's say we want to get the username \"AlgoCapstone\", then we can use `message.from_user.username`"
   ]
  },
  {
   "cell_type": "code",
   "execution_count": 6,
   "metadata": {},
   "outputs": [
    {
     "data": {
      "text/plain": [
       "'AlgoCapstone'"
      ]
     },
     "execution_count": 6,
     "metadata": {},
     "output_type": "execute_result"
    }
   ],
   "source": [
    "# play around with the message object\n",
    "message.from_user.username"
   ]
  },
  {
   "cell_type": "markdown",
   "metadata": {
    "cell_id": "00025-1a957d08-4e96-4ef8-859d-4344df18feae",
    "deepnote_cell_type": "markdown",
    "tags": []
   },
   "source": [
    "Next, we need to extract several attributes from the `message` object:\n",
    "\n",
    "- Attribute `chat`: Conversation the message belongs to.\n",
    "- Attribute `from_user`: Detailed user information of the sender, such as `id`, `username`, `first_name`, `last_name`, etc.\n",
    "- Attribute `text`: Text messages that the sender sends to the bot.\n",
    "\n",
    "**TO DO:**\n",
    "\n",
    "Try to create the following variables, containing the relevant information from a `message` object:\n",
    "\n",
    "- Variable `chat_id`: contains `id` which is an unique identifier of attribute `chat`, will be used when sending a chat.\n",
    "- Variable `full_name`: contains the full name (`first_name` and `last_name`) of the sender, but if the `last_name` is `None` then it only contains the `first_name`.\n",
    "- Variable `message_text`: contains the `text` of the sender's message."
   ]
  },
  {
   "cell_type": "code",
   "execution_count": 80,
   "metadata": {
    "cell_id": "00026-9665f9a0-5544-4f85-9594-cc7bd5c37b86",
    "deepnote_cell_type": "code",
    "deepnote_to_be_reexecuted": false,
    "execution_millis": 64,
    "execution_start": 1629360585886,
    "output_cleared": true,
    "source_hash": "d0d506fc",
    "tags": []
   },
   "outputs": [
    {
     "name": "stdout",
     "output_type": "stream",
     "text": [
      "Chat ID: 727286868\n",
      "Sender Full Name: Tera Putera\n",
      "Message: /help\n"
     ]
    }
   ],
   "source": [
    "# TO DO: chat_id, full_name, message_text\n",
    "chat_id = message.from_user.id\n",
    "\n",
    "first_name = 'Tera'\n",
    "last_name = 'Putera'\n",
    "full_name = f'{first_name} {last_name}' if last_name is not None else first_name\n",
    "\n",
    "message_text = '/help'\n",
    "\n",
    "\n",
    "# DO NOT EDIT (FOR CHECKING PURPOSE)\n",
    "print(f\"Chat ID: {chat_id}\")\n",
    "print(f\"Sender Full Name: {full_name}\")\n",
    "print(f\"Message: {message_text}\")"
   ]
  },
  {
   "cell_type": "markdown",
   "metadata": {
    "cell_id": "00027-764763cf-37cf-4c54-ae47-3afb69397b4d",
    "deepnote_cell_type": "markdown",
    "tags": []
   },
   "source": [
    "**EXPECTED OUTPUT**\n",
    "\n",
    "```\n",
    "Chat ID: 727286868\n",
    "Sender Full Name: Algoritma\n",
    "Message: /help\n",
    "```"
   ]
  },
  {
   "cell_type": "markdown",
   "metadata": {
    "cell_id": "00028-9ee36a57-4421-4270-b4bc-0baf1f3ec85b",
    "deepnote_cell_type": "markdown",
    "tags": []
   },
   "source": [
    "### Understanding `Template` text"
   ]
  },
  {
   "cell_type": "markdown",
   "metadata": {
    "cell_id": "00029-ef649889-6f36-469a-931b-4b2385ab4576",
    "deepnote_cell_type": "markdown",
    "tags": []
   },
   "source": [
    "A chatbot will usually reply to your message with a template text. The text can be explicitly written in script code as a string like `\"Hello World!\"` as we wrote earlier. When the text is too long, it is not a good practice because we have to scan through our code when we want to make a small change in the text.\n",
    "\n",
    "A common good practice is that we prepare `.txt` file containing a template text then Python will read the file and process it as a string. The following snippet text is from `template_text/example.txt`:\n",
    "\n",
    "```\n",
    "This is an example file. You can substitute a key with a value: ${KEY}. Try to read this file using Python.\n",
    "```\n",
    "\n",
    "The syntax `${KEY}` is used to indicate which part of the text that will be substituted. The code below shows how we can read a text file, parse it into a `Template` object, and then substitute the variable with a value."
   ]
  },
  {
   "cell_type": "code",
   "execution_count": 8,
   "metadata": {},
   "outputs": [
    {
     "name": "stdout",
     "output_type": "stream",
     "text": [
      "This is an example file. You can substitute a key with a value: The KEY will be the key to unlock. Try to read this file using Python.\n"
     ]
    }
   ],
   "source": [
    "from string import Template\n",
    "\n",
    "# read text from folder template_text, file example.txt\n",
    "with open('template_text/example.txt', mode='r', encoding='utf-8') as f:\n",
    "    content = f.read()\n",
    "    temp = Template(content)\n",
    "    example = temp.substitute(KEY = \"The KEY will be the key to unlock\")\n",
    "\n",
    "print(example)"
   ]
  },
  {
   "cell_type": "markdown",
   "metadata": {},
   "source": [
    "**TO DO:**\n",
    "\n",
    "Try to substitute `${FULL_NAME}` from `template_text/welcome.txt`. Be careful! Instead of substituting it with a static text, such as `FULL_NAME = \"Algoritma\"`, try substituting it with `full_name` variable that you've created in the previous section."
   ]
  },
  {
   "cell_type": "code",
   "execution_count": 9,
   "metadata": {},
   "outputs": [
    {
     "data": {
      "text/plain": [
       "'Tera Putera'"
      ]
     },
     "execution_count": 9,
     "metadata": {},
     "output_type": "execute_result"
    }
   ],
   "source": [
    "full_name"
   ]
  },
  {
   "cell_type": "code",
   "execution_count": 10,
   "metadata": {
    "cell_id": "00030-ea5d7107-b3b2-4db4-a7ff-7034ed0fab79",
    "deepnote_cell_type": "code",
    "deepnote_to_be_reexecuted": false,
    "execution_millis": 23,
    "execution_start": 1629360585927,
    "output_cleared": true,
    "source_hash": "851cfb7",
    "tags": []
   },
   "outputs": [
    {
     "name": "stdout",
     "output_type": "stream",
     "text": [
      "Hello *Tera Putera*, I can help you to provide a report on Facebook daily ads for different marketing campaigns.\n",
      "\n",
      "You can control me by sending these commands:\n",
      "\n",
      "*Main Functionality*\n",
      "/summary - Generate text report for selected campaign ID\n",
      "/plot - Visualize report per age group for selected campaign ID\n",
      "\n",
      "*Information*\n",
      "/help - List of available commands\n",
      "/about - About me\n"
     ]
    }
   ],
   "source": [
    "from string import Template\n",
    "\n",
    "# TO DO: subtitute text with variable\n",
    "with open('template_text/welcome.txt', mode='r', encoding='utf-8') as f:\n",
    "    content = f.read()\n",
    "    temp = Template(content)\n",
    "    welcome = temp.substitute(FULL_NAME=full_name)\n",
    "\n",
    "print(welcome)"
   ]
  },
  {
   "cell_type": "markdown",
   "metadata": {
    "cell_id": "00031-65de9618-0991-43ee-bff5-d027aca19ba0",
    "deepnote_cell_type": "markdown",
    "tags": []
   },
   "source": [
    "**EXPECTED OUTPUT:**\n",
    "\n",
    "```\n",
    "Hello *Algoritma*, I can help you to provide a report on Facebook daily ads for different marketing campaigns.\n",
    "\n",
    "You can control me by sending these commands:\n",
    "\n",
    "*Main Functionality*\n",
    "/summary - Generate text report for selected campaign ID\n",
    "/plot - Visualize report per age group for selected campaign ID\n",
    "\n",
    "*Information*\n",
    "/help - List of available commands\n",
    "/about - About me\n",
    "```"
   ]
  },
  {
   "cell_type": "markdown",
   "metadata": {},
   "source": [
    "**TO DO:**\n",
    "\n",
    "Try to substitute the following key from `template_text/about.txt`:\n",
    "- `${STUDENT_NAME}`: Your full name\n",
    "- `${BATCH_ACADEMY}`: Your batch in Algoritma Academy, for example: Phoenix Day\n",
    "- `${GITHUB_REPO_LINK}`: Your link to the GitHub Repository\n",
    "\n",
    "For this section, you can substitute each key with a static text, such as `STUDENT_NAME = \"Your Name\"`."
   ]
  },
  {
   "cell_type": "code",
   "execution_count": 11,
   "metadata": {},
   "outputs": [
    {
     "name": "stdout",
     "output_type": "stream",
     "text": [
      "I was developed by *Tera Putera - Phoenix* as [Algoritma Academy](https://algorit.ma/) Data Analytics Specialization capstone project.\n",
      "\n",
      "The data is static and downloaded from [Kaggle](https://www.kaggle.com/madislemsalu/facebook-ad-campaign) provided by [Madis_Lemsalu](https://www.kaggle.com/madislemsalu).\n",
      "\n",
      "Please find the complete script on [GitHub](https://github.com/TeraPutera/capstone_phoenix)\n"
     ]
    }
   ],
   "source": [
    "from string import Template\n",
    "\n",
    "# TO DO: subtitute text with static values\n",
    "with open('template_text/about.txt', mode='r', encoding='utf-8') as f:\n",
    "    content = f.read()\n",
    "    temp = Template(content)\n",
    "    about = temp.substitute(\n",
    "        STUDENT_NAME = full_name,\n",
    "        BATCH_ACADEMY = 'Phoenix',\n",
    "        GITHUB_REPO_LINK = 'https://github.com/TeraPutera/capstone_phoenix'\n",
    "    )\n",
    "\n",
    "print(about)"
   ]
  },
  {
   "cell_type": "code",
   "execution_count": 12,
   "metadata": {},
   "outputs": [],
   "source": [
    "# bot.polling()"
   ]
  },
  {
   "cell_type": "markdown",
   "metadata": {
    "cell_id": "00032-41b45a7d-254e-4400-8395-bd39f0ce5e9a",
    "deepnote_cell_type": "markdown",
    "tags": []
   },
   "source": [
    "---\n",
    "\n",
    "📍 **CHECKPOINT 1**\n",
    "\n",
    "At this point, you have already understood how to:\n",
    "\n",
    "- Create a simple bot, sending a static text message\n",
    "- Access certain attributes of a `message` object\n",
    "- Utilize `Template` object to prepare template text\n",
    "\n",
    "Now, complete the following function inside `bot_local.py`:\n",
    "\n",
    "- `send_welcome` will send a greeting to the sender with their full name and providing a list of available commands. This function will be triggered with **/start** or **/help** command.\n",
    "\n",
    "![](assets/readme/start.png)\n",
    "\n",
    "- `send_about` will send information about you as the developer. Put your name, batch name, and GitHub repository link using string. This function will be triggered with the **/about** command.\n",
    "\n",
    "![](assets/readme/about.png)\n",
    "\n",
    "Run your Python script and test how your Telegram bot works.\n",
    "\n",
    "---"
   ]
  },
  {
   "cell_type": "markdown",
   "metadata": {
    "cell_id": "00033-6e5e7245-532a-4a3a-bbb0-2f960e6e1e81",
    "deepnote_cell_type": "markdown",
    "tags": []
   },
   "source": [
    "## Campaign Performance Reporting "
   ]
  },
  {
   "cell_type": "markdown",
   "metadata": {
    "cell_id": "00034-a143113b-a11a-4514-830c-55d75f0cd0b1",
    "deepnote_cell_type": "markdown",
    "tags": []
   },
   "source": [
    "The main functionality of this bot is to provide a campaign performance report from a marketing dataset. The report will be triggered by two commands:\n",
    "\n",
    "- **/summary**: provides quick text report of performance summary for selected campaign ID.\n",
    "- **/plot**: provides an image plot representation of selected campaign ID's performance and its description via voice note.\n",
    "\n",
    "We'll breakdown the process of each commands in the next part of this sub-section."
   ]
  },
  {
   "cell_type": "markdown",
   "metadata": {
    "cell_id": "00035-33678759-6943-4de0-8538-781fdb01f4c7",
    "deepnote_cell_type": "markdown",
    "tags": []
   },
   "source": [
    "### Data Preparation"
   ]
  },
  {
   "cell_type": "markdown",
   "metadata": {
    "cell_id": "00036-c13c6920-c940-4c24-a897-46584af31e7d",
    "deepnote_cell_type": "markdown",
    "tags": []
   },
   "source": [
    "**TO DO:**\n",
    "\n",
    "Let's start by reading our CSV data in. It's located in folder `data_input` and named `facebook_ads_v2.csv`. Don't forget to make sure that the value in each column has stored in the correct data type!"
   ]
  },
  {
   "cell_type": "code",
   "execution_count": 13,
   "metadata": {
    "cell_id": "00037-bcbed841-f4a0-48af-9c88-b9f68d20fca8",
    "deepnote_cell_type": "code",
    "deepnote_to_be_reexecuted": false,
    "execution_millis": 72,
    "execution_start": 1629360585927,
    "output_cleared": true,
    "source_hash": "3fd4b32",
    "tags": []
   },
   "outputs": [
    {
     "data": {
      "text/html": [
       "<div>\n",
       "<style scoped>\n",
       "    .dataframe tbody tr th:only-of-type {\n",
       "        vertical-align: middle;\n",
       "    }\n",
       "\n",
       "    .dataframe tbody tr th {\n",
       "        vertical-align: top;\n",
       "    }\n",
       "\n",
       "    .dataframe thead th {\n",
       "        text-align: right;\n",
       "    }\n",
       "</style>\n",
       "<table border=\"1\" class=\"dataframe\">\n",
       "  <thead>\n",
       "    <tr style=\"text-align: right;\">\n",
       "      <th></th>\n",
       "      <th>ad_id</th>\n",
       "      <th>reporting_date</th>\n",
       "      <th>campaign_id</th>\n",
       "      <th>age</th>\n",
       "      <th>gender</th>\n",
       "      <th>interest1</th>\n",
       "      <th>interest2</th>\n",
       "      <th>interest3</th>\n",
       "      <th>impressions</th>\n",
       "      <th>clicks</th>\n",
       "      <th>spent</th>\n",
       "      <th>total_conversion</th>\n",
       "      <th>approved_conversion</th>\n",
       "    </tr>\n",
       "  </thead>\n",
       "  <tbody>\n",
       "    <tr>\n",
       "      <th>0</th>\n",
       "      <td>708746</td>\n",
       "      <td>2017-08-17</td>\n",
       "      <td>916</td>\n",
       "      <td>30-34</td>\n",
       "      <td>M</td>\n",
       "      <td>15</td>\n",
       "      <td>17</td>\n",
       "      <td>17</td>\n",
       "      <td>7350.0</td>\n",
       "      <td>1</td>\n",
       "      <td>1.43</td>\n",
       "      <td>2.0</td>\n",
       "      <td>1.0</td>\n",
       "    </tr>\n",
       "    <tr>\n",
       "      <th>1</th>\n",
       "      <td>708749</td>\n",
       "      <td>2017-08-17</td>\n",
       "      <td>916</td>\n",
       "      <td>30-34</td>\n",
       "      <td>M</td>\n",
       "      <td>16</td>\n",
       "      <td>19</td>\n",
       "      <td>21</td>\n",
       "      <td>17861.0</td>\n",
       "      <td>2</td>\n",
       "      <td>1.82</td>\n",
       "      <td>2.0</td>\n",
       "      <td>0.0</td>\n",
       "    </tr>\n",
       "    <tr>\n",
       "      <th>2</th>\n",
       "      <td>708815</td>\n",
       "      <td>2017-08-30</td>\n",
       "      <td>916</td>\n",
       "      <td>30-34</td>\n",
       "      <td>M</td>\n",
       "      <td>28</td>\n",
       "      <td>32</td>\n",
       "      <td>32</td>\n",
       "      <td>4259.0</td>\n",
       "      <td>1</td>\n",
       "      <td>1.25</td>\n",
       "      <td>1.0</td>\n",
       "      <td>0.0</td>\n",
       "    </tr>\n",
       "    <tr>\n",
       "      <th>3</th>\n",
       "      <td>708818</td>\n",
       "      <td>2017-08-17</td>\n",
       "      <td>916</td>\n",
       "      <td>30-34</td>\n",
       "      <td>M</td>\n",
       "      <td>28</td>\n",
       "      <td>33</td>\n",
       "      <td>32</td>\n",
       "      <td>4133.0</td>\n",
       "      <td>1</td>\n",
       "      <td>1.29</td>\n",
       "      <td>1.0</td>\n",
       "      <td>1.0</td>\n",
       "    </tr>\n",
       "    <tr>\n",
       "      <th>4</th>\n",
       "      <td>708889</td>\n",
       "      <td>2017-08-17</td>\n",
       "      <td>916</td>\n",
       "      <td>30-34</td>\n",
       "      <td>M</td>\n",
       "      <td>15</td>\n",
       "      <td>16</td>\n",
       "      <td>17</td>\n",
       "      <td>15615.0</td>\n",
       "      <td>3</td>\n",
       "      <td>4.77</td>\n",
       "      <td>1.0</td>\n",
       "      <td>0.0</td>\n",
       "    </tr>\n",
       "  </tbody>\n",
       "</table>\n",
       "</div>"
      ],
      "text/plain": [
       "    ad_id reporting_date  campaign_id    age gender  interest1  interest2  \\\n",
       "0  708746     2017-08-17          916  30-34      M         15         17   \n",
       "1  708749     2017-08-17          916  30-34      M         16         19   \n",
       "2  708815     2017-08-30          916  30-34      M         28         32   \n",
       "3  708818     2017-08-17          916  30-34      M         28         33   \n",
       "4  708889     2017-08-17          916  30-34      M         15         16   \n",
       "\n",
       "   interest3  impressions  clicks  spent  total_conversion  \\\n",
       "0         17       7350.0       1   1.43               2.0   \n",
       "1         21      17861.0       2   1.82               2.0   \n",
       "2         32       4259.0       1   1.25               1.0   \n",
       "3         32       4133.0       1   1.29               1.0   \n",
       "4         17      15615.0       3   4.77               1.0   \n",
       "\n",
       "   approved_conversion  \n",
       "0                  1.0  \n",
       "1                  0.0  \n",
       "2                  0.0  \n",
       "3                  1.0  \n",
       "4                  0.0  "
      ]
     },
     "execution_count": 13,
     "metadata": {},
     "output_type": "execute_result"
    }
   ],
   "source": [
    "import pandas as pd\n",
    "\n",
    "# TO DO: read data and convert data type\n",
    "df = pd.read_csv(\"data_input/facebook_ads_v2.csv\", parse_dates=['reporting_date'])\n",
    "df.head()\n"
   ]
  },
  {
   "cell_type": "markdown",
   "metadata": {
    "cell_id": "00038-0b4c6286-0c1a-4fc5-9de6-11cadd1c6f00",
    "deepnote_cell_type": "markdown",
    "tags": []
   },
   "source": [
    "The data is downloaded from a  [Kaggle dataset repository](https://www.kaggle.com/madislemsalu/facebook-ad-campaign) provided by [Madis_Lemsalu](https://www.kaggle.com/madislemsalu). It contains daily ads report run on Facebook from different marketing campaign from 17th to 30th of August 2017. The variable includes:\n",
    "\n",
    "- `ad_id`: Unique identifier of the daily ads\n",
    "- `reporting_date`: The date of the generated report. \n",
    "- `campaign_id`: unique identifier of a campaign, one campaign could have several creative ads\n",
    "- `age`: The age group on which the ad is promoted\n",
    "- `gender`: The gender on which the ad is promoted\n",
    "- `interest1`, `interest2`, and `interest3`: The interest group id on which the ad is promoted\n",
    "- `impressions`: Number of people viewing the ad\n",
    "- `clicks`: Number of people clicking the ad\n",
    "- `spent`: Amount of marketing cost spent\n",
    "- `total_conversion`: Number of conversions (commonly a buying action) happened\n",
    "- `approved_conversion`: Number of approved conversions after cross checked with the actual business. In some cases, a conversion tracked by the ad doesn't really record with a complete buying action from the customers."
   ]
  },
  {
   "cell_type": "markdown",
   "metadata": {
    "cell_id": "00039-6cf05b28-7374-4d88-8c82-8fd84909fca0",
    "deepnote_cell_type": "markdown",
    "tags": []
   },
   "source": [
    "**TO DO:**\n",
    "\n",
    "Since we expect both **/summary** & **/plot** to ask for `campaign_id` as reply options, in the cell below change the type of `campaign_id` to string and store its unique values into `unique_campaign` variable:"
   ]
  },
  {
   "cell_type": "code",
   "execution_count": 14,
   "metadata": {},
   "outputs": [
    {
     "data": {
      "text/html": [
       "<div>\n",
       "<style scoped>\n",
       "    .dataframe tbody tr th:only-of-type {\n",
       "        vertical-align: middle;\n",
       "    }\n",
       "\n",
       "    .dataframe tbody tr th {\n",
       "        vertical-align: top;\n",
       "    }\n",
       "\n",
       "    .dataframe thead th {\n",
       "        text-align: right;\n",
       "    }\n",
       "</style>\n",
       "<table border=\"1\" class=\"dataframe\">\n",
       "  <thead>\n",
       "    <tr style=\"text-align: right;\">\n",
       "      <th></th>\n",
       "      <th>ad_id</th>\n",
       "      <th>reporting_date</th>\n",
       "      <th>campaign_id</th>\n",
       "      <th>age</th>\n",
       "      <th>gender</th>\n",
       "      <th>interest1</th>\n",
       "      <th>interest2</th>\n",
       "      <th>interest3</th>\n",
       "      <th>impressions</th>\n",
       "      <th>clicks</th>\n",
       "      <th>spent</th>\n",
       "      <th>total_conversion</th>\n",
       "      <th>approved_conversion</th>\n",
       "    </tr>\n",
       "  </thead>\n",
       "  <tbody>\n",
       "    <tr>\n",
       "      <th>0</th>\n",
       "      <td>708746</td>\n",
       "      <td>2017-08-17</td>\n",
       "      <td>916</td>\n",
       "      <td>30-34</td>\n",
       "      <td>M</td>\n",
       "      <td>15</td>\n",
       "      <td>17</td>\n",
       "      <td>17</td>\n",
       "      <td>7350.0</td>\n",
       "      <td>1</td>\n",
       "      <td>1.430000</td>\n",
       "      <td>2.0</td>\n",
       "      <td>1.0</td>\n",
       "    </tr>\n",
       "    <tr>\n",
       "      <th>1</th>\n",
       "      <td>708749</td>\n",
       "      <td>2017-08-17</td>\n",
       "      <td>916</td>\n",
       "      <td>30-34</td>\n",
       "      <td>M</td>\n",
       "      <td>16</td>\n",
       "      <td>19</td>\n",
       "      <td>21</td>\n",
       "      <td>17861.0</td>\n",
       "      <td>2</td>\n",
       "      <td>1.820000</td>\n",
       "      <td>2.0</td>\n",
       "      <td>0.0</td>\n",
       "    </tr>\n",
       "    <tr>\n",
       "      <th>2</th>\n",
       "      <td>708815</td>\n",
       "      <td>2017-08-30</td>\n",
       "      <td>916</td>\n",
       "      <td>30-34</td>\n",
       "      <td>M</td>\n",
       "      <td>28</td>\n",
       "      <td>32</td>\n",
       "      <td>32</td>\n",
       "      <td>4259.0</td>\n",
       "      <td>1</td>\n",
       "      <td>1.250000</td>\n",
       "      <td>1.0</td>\n",
       "      <td>0.0</td>\n",
       "    </tr>\n",
       "    <tr>\n",
       "      <th>3</th>\n",
       "      <td>708818</td>\n",
       "      <td>2017-08-17</td>\n",
       "      <td>916</td>\n",
       "      <td>30-34</td>\n",
       "      <td>M</td>\n",
       "      <td>28</td>\n",
       "      <td>33</td>\n",
       "      <td>32</td>\n",
       "      <td>4133.0</td>\n",
       "      <td>1</td>\n",
       "      <td>1.290000</td>\n",
       "      <td>1.0</td>\n",
       "      <td>1.0</td>\n",
       "    </tr>\n",
       "    <tr>\n",
       "      <th>4</th>\n",
       "      <td>708889</td>\n",
       "      <td>2017-08-17</td>\n",
       "      <td>916</td>\n",
       "      <td>30-34</td>\n",
       "      <td>M</td>\n",
       "      <td>15</td>\n",
       "      <td>16</td>\n",
       "      <td>17</td>\n",
       "      <td>15615.0</td>\n",
       "      <td>3</td>\n",
       "      <td>4.770000</td>\n",
       "      <td>1.0</td>\n",
       "      <td>0.0</td>\n",
       "    </tr>\n",
       "    <tr>\n",
       "      <th>...</th>\n",
       "      <td>...</td>\n",
       "      <td>...</td>\n",
       "      <td>...</td>\n",
       "      <td>...</td>\n",
       "      <td>...</td>\n",
       "      <td>...</td>\n",
       "      <td>...</td>\n",
       "      <td>...</td>\n",
       "      <td>...</td>\n",
       "      <td>...</td>\n",
       "      <td>...</td>\n",
       "      <td>...</td>\n",
       "      <td>...</td>\n",
       "    </tr>\n",
       "    <tr>\n",
       "      <th>931</th>\n",
       "      <td>1314410</td>\n",
       "      <td>2017-08-19</td>\n",
       "      <td>1210</td>\n",
       "      <td>45-49</td>\n",
       "      <td>F</td>\n",
       "      <td>109</td>\n",
       "      <td>111</td>\n",
       "      <td>114</td>\n",
       "      <td>1129773.0</td>\n",
       "      <td>252</td>\n",
       "      <td>358.189997</td>\n",
       "      <td>13.0</td>\n",
       "      <td>2.0</td>\n",
       "    </tr>\n",
       "    <tr>\n",
       "      <th>932</th>\n",
       "      <td>1314411</td>\n",
       "      <td>2017-08-19</td>\n",
       "      <td>1210</td>\n",
       "      <td>45-49</td>\n",
       "      <td>F</td>\n",
       "      <td>110</td>\n",
       "      <td>111</td>\n",
       "      <td>116</td>\n",
       "      <td>637549.0</td>\n",
       "      <td>120</td>\n",
       "      <td>173.880003</td>\n",
       "      <td>3.0</td>\n",
       "      <td>0.0</td>\n",
       "    </tr>\n",
       "    <tr>\n",
       "      <th>933</th>\n",
       "      <td>1314412</td>\n",
       "      <td>2017-08-19</td>\n",
       "      <td>1210</td>\n",
       "      <td>45-49</td>\n",
       "      <td>F</td>\n",
       "      <td>111</td>\n",
       "      <td>113</td>\n",
       "      <td>117</td>\n",
       "      <td>151531.0</td>\n",
       "      <td>28</td>\n",
       "      <td>40.289999</td>\n",
       "      <td>2.0</td>\n",
       "      <td>0.0</td>\n",
       "    </tr>\n",
       "    <tr>\n",
       "      <th>934</th>\n",
       "      <td>1314414</td>\n",
       "      <td>2017-08-17</td>\n",
       "      <td>1210</td>\n",
       "      <td>45-49</td>\n",
       "      <td>F</td>\n",
       "      <td>113</td>\n",
       "      <td>114</td>\n",
       "      <td>117</td>\n",
       "      <td>790253.0</td>\n",
       "      <td>135</td>\n",
       "      <td>198.710001</td>\n",
       "      <td>8.0</td>\n",
       "      <td>2.0</td>\n",
       "    </tr>\n",
       "    <tr>\n",
       "      <th>935</th>\n",
       "      <td>1314415</td>\n",
       "      <td>2017-08-17</td>\n",
       "      <td>1210</td>\n",
       "      <td>45-49</td>\n",
       "      <td>F</td>\n",
       "      <td>114</td>\n",
       "      <td>116</td>\n",
       "      <td>118</td>\n",
       "      <td>513161.0</td>\n",
       "      <td>114</td>\n",
       "      <td>165.609999</td>\n",
       "      <td>5.0</td>\n",
       "      <td>2.0</td>\n",
       "    </tr>\n",
       "  </tbody>\n",
       "</table>\n",
       "<p>936 rows × 13 columns</p>\n",
       "</div>"
      ],
      "text/plain": [
       "       ad_id reporting_date  campaign_id    age gender  interest1  interest2  \\\n",
       "0     708746     2017-08-17          916  30-34      M         15         17   \n",
       "1     708749     2017-08-17          916  30-34      M         16         19   \n",
       "2     708815     2017-08-30          916  30-34      M         28         32   \n",
       "3     708818     2017-08-17          916  30-34      M         28         33   \n",
       "4     708889     2017-08-17          916  30-34      M         15         16   \n",
       "..       ...            ...          ...    ...    ...        ...        ...   \n",
       "931  1314410     2017-08-19         1210  45-49      F        109        111   \n",
       "932  1314411     2017-08-19         1210  45-49      F        110        111   \n",
       "933  1314412     2017-08-19         1210  45-49      F        111        113   \n",
       "934  1314414     2017-08-17         1210  45-49      F        113        114   \n",
       "935  1314415     2017-08-17         1210  45-49      F        114        116   \n",
       "\n",
       "     interest3  impressions  clicks       spent  total_conversion  \\\n",
       "0           17       7350.0       1    1.430000               2.0   \n",
       "1           21      17861.0       2    1.820000               2.0   \n",
       "2           32       4259.0       1    1.250000               1.0   \n",
       "3           32       4133.0       1    1.290000               1.0   \n",
       "4           17      15615.0       3    4.770000               1.0   \n",
       "..         ...          ...     ...         ...               ...   \n",
       "931        114    1129773.0     252  358.189997              13.0   \n",
       "932        116     637549.0     120  173.880003               3.0   \n",
       "933        117     151531.0      28   40.289999               2.0   \n",
       "934        117     790253.0     135  198.710001               8.0   \n",
       "935        118     513161.0     114  165.609999               5.0   \n",
       "\n",
       "     approved_conversion  \n",
       "0                    1.0  \n",
       "1                    0.0  \n",
       "2                    0.0  \n",
       "3                    1.0  \n",
       "4                    0.0  \n",
       "..                   ...  \n",
       "931                  2.0  \n",
       "932                  0.0  \n",
       "933                  0.0  \n",
       "934                  2.0  \n",
       "935                  2.0  \n",
       "\n",
       "[936 rows x 13 columns]"
      ]
     },
     "execution_count": 14,
     "metadata": {},
     "output_type": "execute_result"
    }
   ],
   "source": [
    "df"
   ]
  },
  {
   "cell_type": "code",
   "execution_count": 15,
   "metadata": {
    "cell_id": "00040-5b29d5b5-e6ed-45a5-b663-fc3c90f6f12b",
    "deepnote_cell_type": "code",
    "deepnote_to_be_reexecuted": false,
    "execution_millis": 24,
    "execution_start": 1629360585975,
    "output_cleared": true,
    "source_hash": "f3db8c0c",
    "tags": []
   },
   "outputs": [
    {
     "data": {
      "text/plain": [
       "array(['916', '936', '1178', '1210'], dtype=object)"
      ]
     },
     "execution_count": 15,
     "metadata": {},
     "output_type": "execute_result"
    }
   ],
   "source": [
    "# TO DO: get unique values of campaign_id\n",
    "df['campaign_id'] = df['campaign_id'].astype('str')\n",
    "unique_campaign = df['campaign_id'].unique()\n",
    "\n",
    "unique_campaign"
   ]
  },
  {
   "cell_type": "markdown",
   "metadata": {
    "cell_id": "00041-f2090195-d6ea-4d23-8c64-2d2469f320ce",
    "deepnote_cell_type": "markdown",
    "tags": []
   },
   "source": [
    "**EXPECTED OUTPUT:**\n",
    "\n",
    "```\n",
    "array(['916', '936', '1178', '1210'], dtype=object)\n",
    "````\n",
    "\n",
    "Be careful! Notice the following two points:\n",
    "\n",
    "1. `dtype` of the array must be an object.\n",
    "2. Each value in `unique_campaign` must be a string (denoted by single quotation mark) not an integer.\n",
    "    - CORRECT OUTPUT: `['916', '936', '1178', '1210']`\n",
    "    - WRONG OUTPUT: `[916, 936, 1178, 1210]`"
   ]
  },
  {
   "cell_type": "markdown",
   "metadata": {
    "cell_id": "00042-4321e0c3-6b9d-4fee-a503-59df266f26dc",
    "deepnote_cell_type": "markdown",
    "tags": []
   },
   "source": [
    "### The `/summary` command"
   ]
  },
  {
   "cell_type": "markdown",
   "metadata": {
    "cell_id": "00043-32b205d3-c116-43c2-a8cd-f7021787f082",
    "deepnote_cell_type": "markdown",
    "tags": []
   },
   "source": [
    "#### Preparing the Summary Output"
   ]
  },
  {
   "cell_type": "markdown",
   "metadata": {
    "cell_id": "00044-62d97a80-fd2c-4632-8521-ccbf5003ca51",
    "deepnote_cell_type": "markdown",
    "tags": []
   },
   "source": [
    "This command is created to provide a quick text report of performance summary for selected campaign ID. The message template is stored on `template_text/summary.txt`.\n",
    "\n",
    "If you open up the text file, you'll find several `${variable}`s:\n",
    "\n",
    "- `CAMPAIGN_ID`: Selected Campaign ID\n",
    "- `START_DATE` & `END_DATE`: The start and end date (`reporting_date`) of generated report \n",
    "- `TOTAL_SPENT`: Total marketing cost spent (`spent`) on the campaign  \n",
    "- `TOTAL_CONVERSION`: Number of conversions (`total_conversion`) on the campaign\n",
    "- `CPC`: Cost-per-click (obtained by dividing the total spent with total conversion for each campaign)"
   ]
  },
  {
   "cell_type": "markdown",
   "metadata": {
    "cell_id": "00045-9a9b8b2a-0d85-49b4-b03d-b118a6de51aa",
    "deepnote_cell_type": "markdown",
    "tags": []
   },
   "source": [
    "**TO DO:**\n",
    "\n",
    "Find the range date (`start_date` and `end_date`) based on specified `campaign_id`:\n",
    "\n",
    "1. Filter the data based on `selected_campaign_id` and then assign as `df_campaign`. Since the value of `campaign_id` will be dynamic according to user input later, for now, let's just use campaign ID `1210` as an example.\n",
    "2. Get the minimum and maximum of `reporting_date` and return the date as string following the format of \"17 Aug 2017\". Assign as `start_date` and `end_date` respectively. Reference: [strftime cheatsheet](https://strftime.org/)"
   ]
  },
  {
   "cell_type": "code",
   "execution_count": 16,
   "metadata": {
    "cell_id": "00046-21c8765c-9c35-470e-b4a6-c30127c859e7",
    "deepnote_cell_type": "code",
    "deepnote_to_be_reexecuted": false,
    "execution_millis": 32,
    "execution_start": 1629360585982,
    "output_cleared": true,
    "source_hash": "332d60d4",
    "tags": []
   },
   "outputs": [
    {
     "name": "stdout",
     "output_type": "stream",
     "text": [
      "Start Date: 17 Aug 2017\n",
      "End Date: 30 Aug 2017\n"
     ]
    }
   ],
   "source": [
    "# TO DO: find the range date\n",
    "selected_campaign_id = '1210'\n",
    "# campaign = df['campaign_id']==(selected_campaign_id)\n",
    "df_campaign = df[df['campaign_id']==(selected_campaign_id)] #sort_values(by='reporting_date', ascending=True)\n",
    "        \n",
    "start_date = df_campaign['reporting_date'].min().strftime(format='%d %b %Y')\n",
    "end_date = df_campaign['reporting_date'].max().strftime(format='%d %b %Y')\n",
    "\n",
    "# DO NOT EDIT (FOR CHECKING PURPOSE)\n",
    "print(f\"Start Date: {start_date}\")\n",
    "print(f\"End Date: {end_date}\")"
   ]
  },
  {
   "cell_type": "markdown",
   "metadata": {
    "cell_id": "00047-30dcd982-b466-48ad-b139-934af0f6d9bc",
    "deepnote_cell_type": "markdown",
    "tags": []
   },
   "source": [
    "**EXPECTED OUTPUT:**\n",
    "\n",
    "```\n",
    "Start Date: 17 Aug 2017\n",
    "End Date: 30 Aug 2017\n",
    "```"
   ]
  },
  {
   "cell_type": "markdown",
   "metadata": {
    "cell_id": "00048-39c4c7f0-48b6-4352-8d55-3343f19ce572",
    "deepnote_cell_type": "markdown",
    "tags": []
   },
   "source": [
    "**TO DO:**\n",
    "\n",
    "From the filtered data (`df_campaign`), calculate the following metrics:\n",
    "\n",
    "1. `total_spent` is the total marketing cost spent (column `spent`) on the campaign, convert it to integer.\n",
    "2. `total_conversion` is the total number of conversions (column `total_conversion`) on the campaign, convert it to integer.\n",
    "3. `cpc` stands for cost-per-click, obtained by dividing the `total_spent` and `total_conversion`"
   ]
  },
  {
   "cell_type": "code",
   "execution_count": 17,
   "metadata": {
    "cell_id": "00049-24090ce3-bc75-4527-b856-10e068e9dc51",
    "deepnote_cell_type": "code",
    "deepnote_to_be_reexecuted": false,
    "execution_millis": 604409,
    "execution_start": 1629360586003,
    "output_cleared": true,
    "source_hash": "f421298f",
    "tags": []
   },
   "outputs": [
    {
     "name": "stdout",
     "output_type": "stream",
     "text": [
      "Total Spent: 39084\n",
      "Total Conversion: 1615\n",
      "CPC: 24.2\n"
     ]
    }
   ],
   "source": [
    "# TO DO: perform calculation\n",
    "total_spent = df_campaign['spent'].sum().astype('int64')\n",
    "total_conversion = df_campaign['total_conversion'].sum().astype('int64')\n",
    "cpc = (total_spent / total_conversion).round(1)\n",
    "\n",
    "# DO NOT EDIT (FOR CHECKING PURPOSE)\n",
    "print(f\"Total Spent: {total_spent}\")\n",
    "print(f\"Total Conversion: {total_conversion}\")\n",
    "print(f\"CPC: {cpc}\")"
   ]
  },
  {
   "cell_type": "markdown",
   "metadata": {
    "cell_id": "00050-e7ee4dc5-b970-4050-8dbd-05a3726bd023",
    "deepnote_cell_type": "markdown",
    "tags": []
   },
   "source": [
    "**EXPECTED OUTPUT:**\n",
    "\n",
    "```\n",
    "Total Spent: 39084\n",
    "Total Conversion: 1615\n",
    "CPC: 24.2\n",
    "```"
   ]
  },
  {
   "cell_type": "markdown",
   "metadata": {},
   "source": [
    "In Python, there is **formatted string literals** (f-strings for short). It allows you include the value of Python expressions inside a string by prefixing the string with `f` and writing expressions as `{expression}`.\n",
    "\n",
    "Take a look on the cell below. The syntax `f\"... {...}\"` indicates that we are using f-strings. Inside the curly bracket, we specify the expression as `{variable:formatting}`. The `variable` to be formatted is `example_cost`. The format `,.5f` means the following:\n",
    "- `,` for thousand separator\n",
    "- `.5f` for float rounding to five decimal places. Feel free to change the number of decimal places.\n",
    "\n",
    "Reference: [Python 3.8 Documentation on Fancier Output Formatting](https://docs.python.org/3.8/tutorial/inputoutput.html#fancier-output-formatting)"
   ]
  },
  {
   "cell_type": "code",
   "execution_count": 18,
   "metadata": {},
   "outputs": [
    {
     "data": {
      "text/plain": [
       "'Value of cost is 1,234.57 IDR.'"
      ]
     },
     "execution_count": 18,
     "metadata": {},
     "output_type": "execute_result"
    }
   ],
   "source": [
    "# play around with f-strings\n",
    "example_cost = 1234.56789123456789\n",
    "f\"Value of cost is {example_cost:,.2f} IDR.\""
   ]
  },
  {
   "cell_type": "markdown",
   "metadata": {
    "cell_id": "00051-4ad694f9-6750-4cc7-b703-18beed7a411b",
    "deepnote_cell_type": "markdown",
    "tags": []
   },
   "source": [
    "**TO DO:**\n",
    "\n",
    "Complete the code below to read in `summary.txt` message template. It should be able to print out the template's variables filled in with the extracted information from the previous steps. Notice that you have to format `total_spent`, `total_conversion`, and `cpc` using f-strings **thousand separator** and **dollar sign**."
   ]
  },
  {
   "cell_type": "code",
   "execution_count": 19,
   "metadata": {
    "cell_id": "00052-76e48668-0bf9-429c-8927-dfde06b0b4cd",
    "deepnote_cell_type": "code",
    "deepnote_to_be_reexecuted": false,
    "execution_millis": 2,
    "execution_start": 1629360586050,
    "output_cleared": true,
    "source_hash": "b1a01537",
    "tags": []
   },
   "outputs": [
    {
     "name": "stdout",
     "output_type": "stream",
     "text": [
      "Reporting Facebook ads campaign performance for Campaign ID 1210 from 17 Aug 2017 to 30 Aug 2017:\n",
      "\n",
      "Total spent: $39,084 \n",
      "Total conversion: 1,615\n",
      "Cost per conversion gained: $24.2\n"
     ]
    }
   ],
   "source": [
    "# TO DO: subtitute text with variables\n",
    "with open('template_text/summary.txt', mode='r', encoding='utf-8') as f:\n",
    "    content = f.read()\n",
    "    temp = Template(content)\n",
    "    summary = temp.substitute(\n",
    "        CAMPAIGN_ID = selected_campaign_id,\n",
    "        START_DATE = start_date,\n",
    "        END_DATE = end_date,\n",
    "        TOTAL_SPENT = f\"${total_spent:,}\",\n",
    "        TOTAL_CONVERSION = f\"{total_conversion:,}\",\n",
    "        CPC = f\"${cpc}\"\n",
    "    )\n",
    "\n",
    "print(summary)"
   ]
  },
  {
   "cell_type": "markdown",
   "metadata": {
    "cell_id": "00053-f2d19e28-d04a-4d15-a955-0bfb7ca34107",
    "deepnote_cell_type": "markdown",
    "tags": []
   },
   "source": [
    "**EXPECTED OUTPUT:**\n",
    "\n",
    "```\n",
    "Reporting Facebook ads campaign performance for Campaign ID 1210 from 17 Aug 2017 to 30 Aug 2017:\n",
    "\n",
    "Total spent: $39,084 \n",
    "Total conversion: 1,615\n",
    "Cost per conversion gained: $24.2\n",
    "```"
   ]
  },
  {
   "cell_type": "markdown",
   "metadata": {
    "cell_id": "00054-c5877bd0-f2ff-4b40-88dd-d62acbc070f5",
    "deepnote_cell_type": "markdown",
    "tags": []
   },
   "source": [
    "#### Configure the Command"
   ]
  },
  {
   "cell_type": "markdown",
   "metadata": {
    "cell_id": "00055-8d207969-c481-4101-99d1-96d6383ae64f",
    "deepnote_cell_type": "markdown",
    "tags": []
   },
   "source": [
    "Let's now present our analysis result inside the Telegram Bot command. The expected flow is:\n",
    "\n",
    "1. User trigger the command with `/summary`\n",
    "2. The Bot will return a `ReplyKeyboardMarkup` which allows user to select which `campaign_id` they're interested in\n",
    "3. User select a `campaign_id`\n",
    "4. Bot return the campaign performance summary\n",
    "\n",
    "To illustrate the flow, take a look at the figure below:\n",
    "\n",
    "![](assets/summary.png)"
   ]
  },
  {
   "cell_type": "markdown",
   "metadata": {
    "cell_id": "00056-ec60482c-5a11-472a-9bfc-a0ef0e29014d",
    "deepnote_cell_type": "markdown",
    "tags": []
   },
   "source": [
    "**TO DO:**\n",
    "\n",
    "Execute the following cell code (make sure to uncomment the `bot.polling()`) and send **/summary** command to the bot in order to understand what is `ReplyKeyboardMarkup` object and method `register_next_step_handler`."
   ]
  },
  {
   "cell_type": "code",
   "execution_count": 20,
   "metadata": {
    "cell_id": "00057-a8ae3e7f-a436-4d2f-aed7-bc6c2d87cf0b",
    "deepnote_cell_type": "code",
    "deepnote_to_be_reexecuted": false,
    "execution_millis": 7,
    "execution_start": 1629360586051,
    "output_cleared": true,
    "source_hash": "81124017",
    "tags": []
   },
   "outputs": [],
   "source": [
    "import telebot\n",
    "from dotenv import load_dotenv\n",
    "import os\n",
    "\n",
    "load_dotenv()\n",
    "TOKEN = os.environ['TOKEN']\n",
    "bot = telebot.TeleBot(TOKEN)\n",
    "\n",
    "# FOCUS ON THIS PART\n",
    "@bot.message_handler(commands=['summary'])\n",
    "def ask_id_summary(message):\n",
    "    chat_id = message.chat.id\n",
    "\n",
    "    # 1. PREPARE ReplyKeyboardMarkup\n",
    "    markup = telebot.types.ReplyKeyboardMarkup(one_time_keyboard=True)\n",
    "\n",
    "    # 2. ADD BUTTON TO THE ReplyKeyboardMarkup\n",
    "    markup.add('First')\n",
    "    markup.add('Second')\n",
    "    markup.add('Third')\n",
    "\n",
    "    # 3. SEND MESSAGE\n",
    "    sent = bot.send_message(chat_id, 'This is ask_id_summary', reply_markup=markup)\n",
    "\n",
    "    # 4. TRIGGER send_summary FUNCTION\n",
    "    bot.register_next_step_handler(sent, send_summary)\n",
    "\n",
    "# 5. send_summary WILL BE EXECUTED\n",
    "def send_summary(message):\n",
    "    bot.reply_to(message, \"This is send_summary function\")\n",
    "    print(type(message.text))\n",
    "\n",
    "# bot.polling()"
   ]
  },
  {
   "cell_type": "markdown",
   "metadata": {
    "cell_id": "00058-9a5cb3ff-6680-4c62-8edf-3c0a40a30382",
    "deepnote_cell_type": "markdown",
    "tags": []
   },
   "source": [
    "---\n",
    "\n",
    "📍 **CHECKPOINT 2**\n",
    "\n",
    "At this point, you have extract relevant information and present a text report of performance summary, but only for campaign ID `1210`.\n",
    "\n",
    "Now, complete the following function inside `bot_local.py`:\n",
    "\n",
    "- `ask_id_summary` will prompt a keyboard and ask the user to choose campaign ID to be summarized. This function will be triggered with **/summary** command.\n",
    "- `send_summary` will send a quick text report of performance summary for selected campaign ID. This function will be triggered after the user choose a campaign ID via `ask_id_summary`.\n",
    "\n",
    "Run your Python script and test how your Telegram bot works.\n",
    "\n",
    "---"
   ]
  },
  {
   "cell_type": "markdown",
   "metadata": {
    "cell_id": "00059-d60d3036-5f9e-47eb-860d-b73bc084690d",
    "deepnote_cell_type": "markdown",
    "tags": []
   },
   "source": [
    "### The `/plot` command "
   ]
  },
  {
   "cell_type": "markdown",
   "metadata": {
    "cell_id": "00060-da82fd22-4338-49f5-a03b-3e86ab58827a",
    "deepnote_cell_type": "markdown",
    "tags": []
   },
   "source": [
    "Not only text messages, we can also send **image and audio output** via the Telegram bot. In this section, we want our bot to generate a plot to visualize Total Spent, Total Approved Conversion, and Average CPC (Cost per Conversion) across `age` group for selected `campaign_id`. From the visualization, there will be a voice message that summarize the insight of the plot."
   ]
  },
  {
   "cell_type": "markdown",
   "metadata": {
    "cell_id": "00061-c55e16f3-54b1-4c43-9756-902af67ceb6c",
    "deepnote_cell_type": "markdown",
    "tags": []
   },
   "source": [
    "#### Visualization"
   ]
  },
  {
   "cell_type": "markdown",
   "metadata": {
    "cell_id": "00062-d8b8621f-ba14-4897-ad83-32cd4d0354ba",
    "deepnote_cell_type": "markdown",
    "tags": []
   },
   "source": [
    "**TO DO:**\n",
    "\n",
    "Let's prepare the data before visualization:\n",
    "\n",
    "1. Filter the data based on `selected_campaign_id` and then assign as `df_campaign`. Since the value of `campaign_id` will be dynamic according to user input later, for now, let's just use campaign ID `1210` as an example.\n",
    "2. By using filtered data `df_campaign`, create an aggregation table to calculate the total of `spent` and `approved_conversion` for each `age` group. Assign as `df_plot`.\n",
    "3. From the aggregation table, create a new column `cpc` by dividing total `spent` by `approved_conversion`."
   ]
  },
  {
   "cell_type": "code",
   "execution_count": 21,
   "metadata": {},
   "outputs": [],
   "source": [
    "# df_campaign.dtypes"
   ]
  },
  {
   "cell_type": "code",
   "execution_count": 56,
   "metadata": {},
   "outputs": [
    {
     "data": {
      "text/plain": [
       "spent                  float64\n",
       "approved_conversion    float64\n",
       "cpc                    float64\n",
       "dtype: object"
      ]
     },
     "execution_count": 56,
     "metadata": {},
     "output_type": "execute_result"
    }
   ],
   "source": [
    "df_plot.dtypes"
   ]
  },
  {
   "cell_type": "code",
   "execution_count": 23,
   "metadata": {
    "cell_id": "00063-d64e69e3-eb58-42aa-aad6-6e33880c056b",
    "deepnote_cell_type": "code",
    "deepnote_to_be_reexecuted": false,
    "execution_millis": 32,
    "execution_start": 1629360586051,
    "is_code_hidden": false,
    "output_cleared": true,
    "source_hash": "df89475c",
    "tags": []
   },
   "outputs": [
    {
     "data": {
      "text/html": [
       "<div>\n",
       "<style scoped>\n",
       "    .dataframe tbody tr th:only-of-type {\n",
       "        vertical-align: middle;\n",
       "    }\n",
       "\n",
       "    .dataframe tbody tr th {\n",
       "        vertical-align: top;\n",
       "    }\n",
       "\n",
       "    .dataframe thead th {\n",
       "        text-align: right;\n",
       "    }\n",
       "</style>\n",
       "<table border=\"1\" class=\"dataframe\">\n",
       "  <thead>\n",
       "    <tr style=\"text-align: right;\">\n",
       "      <th></th>\n",
       "      <th>spent</th>\n",
       "      <th>approved_conversion</th>\n",
       "      <th>cpc</th>\n",
       "    </tr>\n",
       "    <tr>\n",
       "      <th>age</th>\n",
       "      <th></th>\n",
       "      <th></th>\n",
       "      <th></th>\n",
       "    </tr>\n",
       "  </thead>\n",
       "  <tbody>\n",
       "    <tr>\n",
       "      <th>30-34</th>\n",
       "      <td>7559.179992</td>\n",
       "      <td>166.0</td>\n",
       "      <td>45.537229</td>\n",
       "    </tr>\n",
       "    <tr>\n",
       "      <th>35-39</th>\n",
       "      <td>5966.909990</td>\n",
       "      <td>78.0</td>\n",
       "      <td>76.498846</td>\n",
       "    </tr>\n",
       "    <tr>\n",
       "      <th>40-44</th>\n",
       "      <td>7252.099982</td>\n",
       "      <td>88.0</td>\n",
       "      <td>82.410227</td>\n",
       "    </tr>\n",
       "    <tr>\n",
       "      <th>45-49</th>\n",
       "      <td>18306.799997</td>\n",
       "      <td>162.0</td>\n",
       "      <td>113.004938</td>\n",
       "    </tr>\n",
       "  </tbody>\n",
       "</table>\n",
       "</div>"
      ],
      "text/plain": [
       "              spent  approved_conversion         cpc\n",
       "age                                                 \n",
       "30-34   7559.179992                166.0   45.537229\n",
       "35-39   5966.909990                 78.0   76.498846\n",
       "40-44   7252.099982                 88.0   82.410227\n",
       "45-49  18306.799997                162.0  113.004938"
      ]
     },
     "execution_count": 23,
     "metadata": {},
     "output_type": "execute_result"
    }
   ],
   "source": [
    "# TO DO: prepare data for visualization\n",
    "selected_campaign_id = '1210'\n",
    "df_campaign = df[df['campaign_id']==(selected_campaign_id)]\n",
    "df_plot = df_campaign.groupby('age')[['spent', 'approved_conversion']].sum()\n",
    "df_plot['cpc'] = df_plot['spent'] / df_plot['approved_conversion']\n",
    "df_plot"
   ]
  },
  {
   "cell_type": "markdown",
   "metadata": {
    "cell_id": "00064-6cc2f674-4831-4280-be91-5c3cabbac526",
    "deepnote_cell_type": "markdown",
    "tags": []
   },
   "source": [
    "**EXPECTED OUTPUT:**\n",
    "\n",
    "|       |     spent    | approved_conversion |     cpc    |\n",
    "|:-----:|:------------:|:-------------------:|:----------:|\n",
    "|**age**|              |                     |            |\n",
    "| 30-34 |  7559.179992 |        166.0        |  45.537229 |\n",
    "| 35-39 |  5966.909990 |         78.0        |  76.498846 |\n",
    "| 40-44 |  7252.099982 |         88.0        |  82.410227 |\n",
    "| 45-49 | 18306.799997 |        162.0        | 113.004938 |"
   ]
  },
  {
   "cell_type": "markdown",
   "metadata": {
    "cell_id": "00065-b5f09103-68d5-412e-8d1a-50a71142ef5c",
    "deepnote_cell_type": "markdown",
    "tags": []
   },
   "source": [
    "We are going to create bar plot of 3 values (total `spent`, `approved_conversion`, and `cpc`), so we need to use subplots for the visualization by using `plt.subplots()`. Then change the plot to frameless to make it look neater.\n",
    "\n",
    "**TO DO:**\n",
    "\n",
    "Complete the visual component:\n",
    "\n",
    "1. First subplot: bar plot of total `spent` per age group. Set the `color` parameter to #AE2024 (red) and the `ylabel` accordingly.\n",
    "2. Second subplot: bar plot of total `approved_conversion` per age group. Set the `color` parameter to #000000 (red) and the `ylabel` accordingly.\n",
    "3. Third subplot: bar plot of average `cpc` per age group. Set the `color` parameter to #AE2024 (red) and the `ylabel` accordingly.\n",
    "4. Set `xlabel` and `title` of the plot accordingly. Use the f-string formatting for `title` so that the title matches the selected `campaign_id`."
   ]
  },
  {
   "cell_type": "code",
   "execution_count": 73,
   "metadata": {
    "cell_id": "00066-f4a8dab2-66e6-4287-bc67-d33d40da9d3f",
    "deepnote_cell_type": "code",
    "deepnote_to_be_reexecuted": false,
    "execution_millis": 702,
    "execution_start": 1629360586076,
    "is_code_hidden": false,
    "output_cleared": true,
    "source_hash": "3a2ce39",
    "tags": []
   },
   "outputs": [
    {
     "data": {
      "image/png": "[encoded data removed]",
      "text/plain": [
       "<Figure size 1800x1200 with 3 Axes>"
      ]
     },
     "metadata": {
      "needs_background": "light"
     },
     "output_type": "display_data"
    }
   ],
   "source": [
    "import matplotlib.pyplot as plt\n",
    "\n",
    "# prepare 3 subplots vertically\n",
    "fig, axes = plt.subplots(3, sharex=True, dpi=300)\n",
    "\n",
    "# create frameless plot\n",
    "for ax in axes:\n",
    "    ax.spines['top'].set_visible(False)\n",
    "    ax.spines['right'].set_visible(False)\n",
    "    ax.spines['left'].set_visible(False)\n",
    "    ax.spines['bottom'].set_visible(False)\n",
    "\n",
    "# first subplot: total spent per age group\n",
    "axes[0].bar(x=df_plot.index, height=df_plot['spent'], color='#AE2024')\n",
    "axes[0].set_ylabel('Total Spent', fontsize=8)\n",
    "\n",
    "# second subplot: total approved conversion per age group\n",
    "axes[1].bar(x=df_plot.index, height=df_plot['approved_conversion'], color='#000000')\n",
    "axes[1].set_ylabel('Total Approved''\\n''Conversion', fontsize=8)\n",
    "\n",
    "# third subplot: average CPC per age group\n",
    "axes[2].bar(x=df_plot.index, height=df_plot['cpc'], color='#AE2024')\n",
    "axes[2].set_ylabel('Average CPC', fontsize=8)\n",
    "\n",
    "# set the label and title for plots\n",
    "plt.xlabel('Age Group')\n",
    "axes[0].set_title(\n",
    "    f'''Average CPC, Total Spent, and Total Approved Conversion\n",
    "    across Age Group for Campaign ID: {selected_campaign_id}''');"
   ]
  },
  {
   "cell_type": "markdown",
   "metadata": {
    "cell_id": "00067-e132458a-f1c5-40ac-9aee-b328071e08ae",
    "deepnote_cell_type": "markdown",
    "tags": []
   },
   "source": [
    "**EXPECTED OUTPUT:**\n",
    "\n",
    "![](assets/plot.png)"
   ]
  },
  {
   "cell_type": "markdown",
   "metadata": {
    "cell_id": "00068-00177e88-4223-4d74-a09d-f6199d574a4f",
    "deepnote_cell_type": "markdown",
    "tags": []
   },
   "source": [
    "The visualization above will be sent to the user as `.png` image. Therefore, we should save the plot by using `plt.savefig` method provided on the skeleton file as follow:\n",
    "\n",
    "```py\n",
    "# create output folder\n",
    "if not os.path.exists('output'):\n",
    "    os.makedirs('output')\n",
    "\n",
    "# save plot\n",
    "plt.savefig('output/plot.png', bbox_inches='tight')\n",
    "```"
   ]
  },
  {
   "cell_type": "markdown",
   "metadata": {
    "cell_id": "00069-7ae50577-6293-4771-964b-373cc31a293d",
    "deepnote_cell_type": "markdown",
    "tags": []
   },
   "source": [
    "---\n",
    "\n",
    "📍 **CHECKPOINT 3**\n",
    "\n",
    "At this point, you have created a plot but only for campaign ID `1210`.\n",
    "\n",
    "Now, complete the following function inside `bot_local.py`:\n",
    "\n",
    "- `ask_id_plot` will prompt a keyboard and ask the user to choose campaign ID to be summarized. This function will be triggered with **/plot** command.\n",
    "- `send_plot` will send a plot for selected campaign ID. This function will be triggered after the user choose a campaign ID via `ask_id_plot`.\n",
    "\n",
    "Run your Python script and test how your Telegram bot works.\n",
    "\n",
    "---"
   ]
  },
  {
   "cell_type": "markdown",
   "metadata": {
    "cell_id": "00070-3d7a0e61-d406-4434-bb3a-23db23f41a42",
    "deepnote_cell_type": "markdown",
    "tags": []
   },
   "source": [
    "#### (EXTRA CHALLENGE) Voice Message"
   ]
  },
  {
   "cell_type": "markdown",
   "metadata": {
    "cell_id": "00071-40fe7234-b9a6-4e7f-adc8-ab26514bc66d",
    "deepnote_cell_type": "markdown",
    "tags": []
   },
   "source": [
    "**This section is optional and doesn't account for any score to the rubrics**. Along with the plot, we can send a voice message to user about the age group with the highest and lowest number of average CPC, total spent, and total approved conversion."
   ]
  },
  {
   "cell_type": "code",
   "execution_count": 81,
   "metadata": {
    "cell_id": "00072-7136c520-f41e-4054-a488-cca9a68fc8f1",
    "deepnote_cell_type": "code",
    "deepnote_to_be_reexecuted": false,
    "execution_millis": 103,
    "execution_start": 1629360586776,
    "output_cleared": true,
    "source_hash": "46ed7f7a",
    "tags": []
   },
   "outputs": [
    {
     "data": {
      "text/html": [
       "<div>\n",
       "<style scoped>\n",
       "    .dataframe tbody tr th:only-of-type {\n",
       "        vertical-align: middle;\n",
       "    }\n",
       "\n",
       "    .dataframe tbody tr th {\n",
       "        vertical-align: top;\n",
       "    }\n",
       "\n",
       "    .dataframe thead th {\n",
       "        text-align: right;\n",
       "    }\n",
       "</style>\n",
       "<table border=\"1\" class=\"dataframe\">\n",
       "  <thead>\n",
       "    <tr style=\"text-align: right;\">\n",
       "      <th></th>\n",
       "      <th>spent</th>\n",
       "      <th>approved_conversion</th>\n",
       "      <th>cpc</th>\n",
       "    </tr>\n",
       "    <tr>\n",
       "      <th>age</th>\n",
       "      <th></th>\n",
       "      <th></th>\n",
       "      <th></th>\n",
       "    </tr>\n",
       "  </thead>\n",
       "  <tbody>\n",
       "    <tr>\n",
       "      <th>30-34</th>\n",
       "      <td>7559.179992</td>\n",
       "      <td>166.0</td>\n",
       "      <td>45.537229</td>\n",
       "    </tr>\n",
       "    <tr>\n",
       "      <th>35-39</th>\n",
       "      <td>5966.909990</td>\n",
       "      <td>78.0</td>\n",
       "      <td>76.498846</td>\n",
       "    </tr>\n",
       "    <tr>\n",
       "      <th>40-44</th>\n",
       "      <td>7252.099982</td>\n",
       "      <td>88.0</td>\n",
       "      <td>82.410227</td>\n",
       "    </tr>\n",
       "    <tr>\n",
       "      <th>45-49</th>\n",
       "      <td>18306.799997</td>\n",
       "      <td>162.0</td>\n",
       "      <td>113.004938</td>\n",
       "    </tr>\n",
       "  </tbody>\n",
       "</table>\n",
       "</div>"
      ],
      "text/plain": [
       "              spent  approved_conversion         cpc\n",
       "age                                                 \n",
       "30-34   7559.179992                166.0   45.537229\n",
       "35-39   5966.909990                 78.0   76.498846\n",
       "40-44   7252.099982                 88.0   82.410227\n",
       "45-49  18306.799997                162.0  113.004938"
      ]
     },
     "execution_count": 81,
     "metadata": {},
     "output_type": "execute_result"
    }
   ],
   "source": [
    "df_plot"
   ]
  },
  {
   "cell_type": "markdown",
   "metadata": {
    "cell_id": "00073-4827907e-8f73-448f-9240-73f1c08508f5",
    "deepnote_cell_type": "markdown",
    "tags": []
   },
   "source": [
    "**TO DO:**\n",
    "\n",
    "Using the code below, extract both minimum and maximum values of the index from the aggregation table `df_plot`. Example: for column `spent`, the age group with the lowest (minimum) values is 35-39. On the other hand, the highest (maximum) is 45-49."
   ]
  },
  {
   "cell_type": "code",
   "execution_count": 85,
   "metadata": {
    "cell_id": "00074-2cf59539-6aa5-4076-8498-00d8638db52a",
    "deepnote_cell_type": "code",
    "deepnote_to_be_reexecuted": false,
    "execution_millis": 10,
    "execution_start": 1629360672286,
    "output_cleared": true,
    "source_hash": "ee6dfbab",
    "tags": []
   },
   "outputs": [],
   "source": [
    "# VOICE MESSAGE\n",
    "plot_info = list(zip(\n",
    "    [, , ,], ,))\n",
    "\n",
    "plot_text = f'This is your requested plot for Campaign ID {selected_campaign_id}.\\n'\n",
    "for col, maxi, mini in plot_info:\n",
    "    text = f\"Age group with the highest {col} is {maxi}, while the lowest is {mini}.\\n\"\n",
    "    plot_text += text\n",
    "\n",
    "print(plot_text)"
   ]
  },
  {
   "cell_type": "markdown",
   "metadata": {
    "cell_id": "00075-1e79fe5c-390b-4a61-89ee-d9e94a6de3ef",
    "deepnote_cell_type": "markdown",
    "tags": []
   },
   "source": [
    "**EXPECTED OUTPUT:**\n",
    "\n",
    "```\n",
    "This is your requested plot for Campaign ID 1210.\n",
    "Age group with the highest total spent is 45-49, while the lowest is 35-39.\n",
    "Age group with the highest total approved conversion is 30-34, while the lowest is 35-39.\n",
    "Age group with the highest average CPC is 45-49, while the lowest is 30-34.\n",
    "```"
   ]
  },
  {
   "cell_type": "markdown",
   "metadata": {
    "cell_id": "00076-c2d784f4-a5ff-49b1-9eb0-6ff9cdddc07d",
    "deepnote_cell_type": "markdown",
    "tags": []
   },
   "source": [
    "The text above will be sent to the user as voice message. By using `gTTS` library (which stands for Google Text-to-Speech), we can convert `plot_text` to a speech. We will save the speech into `.ogg` file (extension for voice note) by using `.save()` method provided on the skeleton file as follow:\n",
    "\n",
    "```\n",
    "speech = gTTS(text = plot_text)\n",
    "speech.save('output/plot_info.ogg')\n",
    "```\n",
    "\n",
    "> Package dependencies: [gTTS](https://gtts.readthedocs.io/en/latest/module.html#module-gtts.tts)\n",
    "\n",
    "The voice message will be sent to the user by using `bot.send_voice()` method provided on the skeleton file:\n",
    "\n",
    "```\n",
    "with open('output/plot_info.ogg', 'rb') as f:\n",
    "    bot.send_voice(chat_id, f)\n",
    "```"
   ]
  },
  {
   "cell_type": "markdown",
   "metadata": {
    "cell_id": "00077-ef6865d1-7a7f-4304-8dc4-1423e0e4a360",
    "deepnote_cell_type": "markdown",
    "tags": []
   },
   "source": [
    "**EXPECTED OUTPUT:** Run the following cell and play the audio to hear the final output of the voice message. You don't have to put the following code in your script."
   ]
  },
  {
   "cell_type": "code",
   "execution_count": null,
   "metadata": {
    "cell_id": "00078-3e54faaf-5a9f-4df4-a8bf-7df1332c1d24",
    "deepnote_cell_type": "code",
    "deepnote_to_be_reexecuted": false,
    "execution_millis": 20,
    "execution_start": 1629362038087,
    "output_cleared": true,
    "source_hash": "4e87712c",
    "tags": []
   },
   "outputs": [],
   "source": [
    "from IPython.display import Audio\n",
    "Audio('assets/plot_info.ogg')"
   ]
  },
  {
   "cell_type": "markdown",
   "metadata": {
    "cell_id": "00079-c07bad5f-3183-47e7-836d-b259d7d9bb29",
    "deepnote_cell_type": "markdown",
    "tags": []
   },
   "source": [
    "---\n",
    "\n",
    "📍 **CHECKPOINT 3**\n",
    "\n",
    "If you have done the extra challenge, copy and paste your code inside `send_plot` function so that the bot will send voice message after the plot is being sent.\n",
    "\n",
    "Run your Python script and test how your Telegram bot works.\n",
    "\n",
    "---"
   ]
  },
  {
   "cell_type": "markdown",
   "metadata": {
    "cell_id": "00080-585126fa-c188-433d-9d95-15dd13c471e3",
    "deepnote_cell_type": "markdown",
    "tags": []
   },
   "source": [
    "## Default Message Handler"
   ]
  },
  {
   "cell_type": "markdown",
   "metadata": {
    "cell_id": "00081-ed1e7724-6155-4e5b-a228-47c111f7239d",
    "deepnote_cell_type": "markdown",
    "tags": []
   },
   "source": [
    "From the point of view of a sender, they expect that every message to be responded. Therefore, we need to create a **default message handler** that will handle cases outside of the functionality that we provide.\n",
    "\n",
    "The function `echo_all` below serves as a default message handler, which echoes all incoming text messages back to the sender. It uses a `lambda` function to test a message. If the `lambda` returns `True`, the message is handled by the function. Since we want all messages to be handled by `echo_all`, we simply always return `True`.\n",
    "\n",
    "**TO DO:**\n",
    "\n",
    "Try to execute the code cell below and test how the bot works by sending messages **other than /start or /help**."
   ]
  },
  {
   "cell_type": "code",
   "execution_count": 88,
   "metadata": {
    "cell_id": "00082-2d3ec69a-fa1f-47d1-bc9c-396d387f2ecb",
    "deepnote_cell_type": "code",
    "deepnote_to_be_reexecuted": false,
    "execution_millis": 18,
    "execution_start": 1628154065466,
    "output_cleared": true,
    "source_hash": "e196b1cc",
    "tags": []
   },
   "outputs": [],
   "source": [
    "import telebot\n",
    "bot = telebot.TeleBot(TOKEN)\n",
    "\n",
    "@bot.message_handler(commands=['start', 'help'])\n",
    "def send_welcome(message):\n",
    "    bot.reply_to(message, \"Hello World!\")\n",
    "\n",
    "# FOCUS ON THIS PART\n",
    "@bot.message_handler(func=lambda m: True)\n",
    "def echo_all(message):\n",
    "\tbot.reply_to(message, \"This is echo_all function\")\n",
    "\n",
    "bot.polling()"
   ]
  },
  {
   "cell_type": "markdown",
   "metadata": {
    "cell_id": "00083-e8408311-7a13-47f8-a04d-8cb91a672a28",
    "deepnote_cell_type": "markdown",
    "tags": []
   },
   "source": [
    "**NOTE:** all message handlers are tested in the order in which they were declared, so it is a common practice to put the `echo_all` function at the very bottom of the Python script."
   ]
  },
  {
   "cell_type": "markdown",
   "metadata": {
    "cell_id": "00084-f7ca1733-55a7-4da2-9079-084d0eb27524",
    "deepnote_cell_type": "markdown",
    "tags": []
   },
   "source": [
    "## Emoji"
   ]
  },
  {
   "cell_type": "markdown",
   "metadata": {
    "cell_id": "00085-bf7bb8da-997e-4d2b-90e0-cb3d1eca98c3",
    "deepnote_cell_type": "markdown",
    "tags": []
   },
   "source": [
    "Who doesn't love to use emojis while chatting? We often use '👍' to express good/okay or even '💖' to express love. It can affect how people communicate via text messages as we read them as a form of emotional communication, not words. The entire set of Emoji codes as defined by the [Unicode Consortium](https://unicode.org/consortium/consort.html) is supported in addition to a bunch of aliases.\n",
    "\n",
    "We want our bot to be able to send an emoji inside the default message handler. By using the `.emojize()` method from package `emoji`, we can translate emoji aliases to its graphical representation. See the example below, the emoji alias `:snake:` is translated into 🐍.\n",
    "\n",
    "> Package dependencies: [emoji](https://pypi.org/project/emoji/)"
   ]
  },
  {
   "cell_type": "code",
   "execution_count": 99,
   "metadata": {
    "cell_id": "00086-847fcf75-9b8f-4f52-9a3b-fbc86a48bddc",
    "deepnote_cell_type": "code",
    "deepnote_to_be_reexecuted": false,
    "execution_millis": 19,
    "execution_start": 1629362669796,
    "output_cleared": true,
    "source_hash": "b65cf0c4",
    "tags": []
   },
   "outputs": [
    {
     "data": {
      "text/plain": [
       "'✌😁'"
      ]
     },
     "execution_count": 99,
     "metadata": {},
     "output_type": "execute_result"
    }
   ],
   "source": [
    "import emoji\n",
    "emoji.emojize('Python is :snake:')\n",
    "\n",
    "emo=emoji.emojize(\":victory_hand::beaming_face_with_smiling_eyes:\")\n",
    "emo"
   ]
  },
  {
   "cell_type": "markdown",
   "metadata": {
    "cell_id": "00087-028dacd0-da10-476d-b63a-d499be9221e2",
    "deepnote_cell_type": "markdown",
    "tags": []
   },
   "source": [
    "**TO DO:**\n",
    "\n",
    "Try to complete the following message from `template_text/default.txt` with an appropriate emoji:\n",
    "\n",
    "```\n",
    "Sorry, I don't understand your message ${EMOJI}\n",
    "Use /help to see the list of available commands.\n",
    "```\n",
    "\n",
    "Scan through the list of all available emoji here: https://carpedm20.github.io/emoji/"
   ]
  },
  {
   "cell_type": "code",
   "execution_count": 100,
   "metadata": {
    "cell_id": "00088-6f59eff5-3e5a-4e9d-be5b-ec53003cb782",
    "deepnote_cell_type": "code",
    "deepnote_to_be_reexecuted": false,
    "execution_millis": 14,
    "execution_start": 1629362688184,
    "output_cleared": true,
    "source_hash": "44b192b",
    "tags": []
   },
   "outputs": [
    {
     "name": "stdout",
     "output_type": "stream",
     "text": [
      "Sorry, I don't understand your message ✌😁\n",
      "Use /help to see the list of available commands.\n"
     ]
    }
   ],
   "source": [
    "# TO DO: emoji\n",
    "with open('template_text/default.txt', mode='r', encoding='utf-8') as f:\n",
    "        temp = Template(f.read())\n",
    "        default = temp.substitute(EMOJI = emo)\n",
    "\n",
    "print(default)"
   ]
  },
  {
   "cell_type": "markdown",
   "metadata": {
    "cell_id": "00089-6c95feb2-2295-4ec7-bcdc-3ffd0fe7ed75",
    "deepnote_cell_type": "markdown",
    "tags": []
   },
   "source": [
    "---\n",
    "\n",
    "📍 **CHECKPOINT 4**\n",
    "\n",
    "At this point, you have already understood how to:\n",
    "\n",
    "- Use default message handler\n",
    "- Use emoji in a text message programmatically\n",
    "\n",
    "Now, complete `echo_all` function inside `bot_local.py` that will send a default message when the text message by the sender is other than **/start**, **/help**, **/about**, **/summary**, or **/plot**.\n",
    "\n",
    "Run your Python script and test how your Telegram bot works. Make sure **all functionalities** of your bot run smoothly without error before going to the Deployment section.\n",
    "\n",
    "---"
   ]
  },
  {
   "cell_type": "markdown",
   "metadata": {
    "cell_id": "00090-9bc9bdec-4aea-4c60-85d3-bdb90ee43d97",
    "deepnote_cell_type": "markdown",
    "tags": []
   },
   "source": [
    "# Deployment"
   ]
  },
  {
   "cell_type": "markdown",
   "metadata": {
    "cell_id": "00091-d2c8365d-97d5-4a96-bef6-05c91341b710",
    "deepnote_cell_type": "markdown",
    "tags": []
   },
   "source": [
    "Congratulations! At this point, you have finished creating a Telegram bot. But if you are aware, you have to run the code continuously on a local computer to keep the bot active. Well, in this section we will learn how to serve your Python script as an application that can be run on a server. This process is also known as **deployment**, which is one of the software development activities that enable a system to be available for use by the intended users.\n",
    "\n",
    "Later, we are going to deploy the Python script to Heroku server:\n",
    "\n",
    "![](assets/telebot_request_response.png)"
   ]
  },
  {
   "cell_type": "markdown",
   "metadata": {
    "cell_id": "00092-8fc270ea-8a66-4887-806e-af5678d5d850",
    "deepnote_cell_type": "markdown",
    "tags": []
   },
   "source": [
    "## Flask (Web Framework)"
   ]
  },
  {
   "cell_type": "markdown",
   "metadata": {
    "cell_id": "00093-8a403bb4-f4b3-48b5-9de7-3368fe3eeb38",
    "deepnote_cell_type": "markdown",
    "tags": []
   },
   "source": [
    "You will need a web framework to serve the Python script as a web application. `Flask` is one of them, it is a micro web framework written in Python. The word \"micro\" means it does not require particular tools or libraries. A minimal Flask application looks something like this:"
   ]
  },
  {
   "cell_type": "code",
   "execution_count": 101,
   "metadata": {
    "cell_id": "00094-0b9ca8ab-c2fd-42bc-8227-3aec071303bd",
    "deepnote_cell_type": "code",
    "deepnote_to_be_reexecuted": false,
    "execution_millis": 1010,
    "execution_start": 1628154065581,
    "output_cleared": true,
    "source_hash": "fffe09cc",
    "tags": []
   },
   "outputs": [
    {
     "name": "stdout",
     "output_type": "stream",
     "text": [
      " * Serving Flask app '__main__' (lazy loading)\n",
      " * Environment: production\n",
      "\u001b[31m   WARNING: This is a development server. Do not use it in a production deployment.\u001b[0m\n",
      "\u001b[2m   Use a production WSGI server instead.\u001b[0m\n",
      " * Debug mode: off\n"
     ]
    },
    {
     "name": "stderr",
     "output_type": "stream",
     "text": [
      " * Running on http://127.0.0.1:5000/ (Press CTRL+C to quit)\n",
      "127.0.0.1 - - [25/Oct/2021 16:37:31] \"GET / HTTP/1.1\" 200 -\n",
      "127.0.0.1 - - [25/Oct/2021 16:37:31] \"GET /favicon.ico HTTP/1.1\" 404 -\n",
      "127.0.0.1 - - [25/Oct/2021 16:37:49] \"GET /home HTTP/1.1\" 200 -\n",
      "127.0.0.1 - - [25/Oct/2021 16:37:54] \"GET / HTTP/1.1\" 200 -\n"
     ]
    }
   ],
   "source": [
    "from flask import Flask\n",
    "app = Flask(__name__)\n",
    "\n",
    "@app.route(\"/\")\n",
    "def hello():\n",
    "    return \"Hello World!\"\n",
    "\n",
    "@app.route(\"/home\")\n",
    "def home():\n",
    "    return \"This is home page.\"\n",
    "\n",
    "if __name__ == \"__main__\":\n",
    "    app.run()"
   ]
  },
  {
   "cell_type": "markdown",
   "metadata": {
    "cell_id": "00095-83bc4697-a9df-4879-9251-d3db52d2da36",
    "deepnote_cell_type": "markdown",
    "tags": []
   },
   "source": [
    "**TO DO:**\n",
    "\n",
    "Try to understand the code above by executing the cell code. You will be prompted with an URL such as `http://127.0.0.1:5000/`, click the link or access the web application via a browser. It will show a simple web application that displays \"Hello World!\"."
   ]
  },
  {
   "cell_type": "markdown",
   "metadata": {
    "cell_id": "00096-7dbde92c-c595-4196-a9a9-98d9803b2efe",
    "deepnote_cell_type": "markdown",
    "tags": []
   },
   "source": [
    "So what did that code do?\n",
    "\n",
    "1. We create an `app` object from the `Flask` class. This will be our web application. The first argument is the name of the application’s module or package. `__name__` is a convenient shortcut for this that is appropriate for most cases.\n",
    "\n",
    "2. We use `@app.route()` to tell `Flask` what URL should trigger the function. From the code above, there are two **endpoints**:\n",
    "\n",
    "    a. If the user access URL `\"/\"`, the function `hello()` will be triggered and return the string \"Hello World!\".\n",
    "\n",
    "    b. If the user access URL `\"/home\"`, the function `home()` will be triggered and return the string \"This is home page.\"\n",
    "\n",
    "    **NOTE:** The function can have an arbitrary name, however, make it as descriptive as possible.\n",
    "\n",
    "3. `app.run()` will run the application. If you run it locally, then the application will be served on the **localhost**. Additionally, conditional `if __name__ == \"__main__\"` is used to prevent the app from being run when the modules are imported by another Python script.\n",
    "\n",
    "> Package dependencies: [Flask](https://flask.palletsprojects.com/en/2.0.x/)"
   ]
  },
  {
   "cell_type": "markdown",
   "metadata": {
    "cell_id": "00097-4b39fd7f-edc4-46be-8aa5-96f6c616eb95",
    "deepnote_cell_type": "markdown",
    "tags": []
   },
   "source": [
    "**TO DO:**\n",
    "\n",
    "Open `app.py` and try to understand the code structure. You **do not need** to run the script.\n",
    "\n",
    "Notice the following points on the Python script:\n",
    "\n",
    "1. We are using the `bot` object which is imported from `bot_local.py`.\n",
    "2. `bot.polling()` is no longer used, instead we use `bot.process_new_updates()` and `bot.set_webhook()`"
   ]
  },
  {
   "cell_type": "markdown",
   "metadata": {
    "cell_id": "00098-4264fdaa-07a2-4962-b912-5d80e940c0d7",
    "deepnote_cell_type": "markdown",
    "tags": []
   },
   "source": [
    "## Webhook"
   ]
  },
  {
   "cell_type": "markdown",
   "metadata": {
    "cell_id": "00099-52f4a89c-e368-4312-8c29-cbb606a08492",
    "deepnote_cell_type": "markdown",
    "tags": []
   },
   "source": [
    "Instead of using the polling mechanism as you have already completed in `bot_local.py`, we are going to use the webhook mechanism in `app.py`.\n",
    "\n",
    "![](assets/polling_vs_webhook.png)\n",
    "\n",
    "Source: [Cloud Elements](https://blog.cloud-elements.com/webhooks-vs-polling-youre-better-than-this)\n",
    "\n",
    "**Polling (pull) mechanism:** Your app will check the Telegram server whether there is any new data or not. This means the process is exhaustive and there are chances that a chat won't be processed immediately until the next polling occurs in the endpoint.\n",
    "\n",
    "**Webhook (push) mechanism:** The endpoint will notify your app when there is new data to be processed. Since event data is posted immediately to your monitored URL, the app will automatically update itself with the new data almost instantly.\n",
    "\n",
    "> To gain an in-depth understanding of Telegram webhook, please visit: https://core.telegram.org/bots/webhooks"
   ]
  },
  {
   "cell_type": "markdown",
   "metadata": {
    "cell_id": "00100-88228194-a5e2-4114-a97d-c6d42f674c27",
    "deepnote_cell_type": "markdown",
    "tags": []
   },
   "source": [
    "When using Telegram webhook, it sends one update per call. You should use `bot.process_new_messages([update.message])` when you receive it on your application.\n",
    "\n",
    "When using `bot.set_webhook()`, we need to use a publically available URL that the Telegram servers can reach. Therefore, in the next section, we'll create a Heroku project.\n",
    "\n",
    "> Code `app.py` is adapted from: https://github.com/eternnoir/pyTelegramBotAPI/blob/master/examples/webhook_examples/webhook_flask_heroku_echo.py"
   ]
  },
  {
   "cell_type": "markdown",
   "metadata": {
    "cell_id": "00101-a7ddf4c6-0faa-4cb7-983f-9ec617ce8ea5",
    "deepnote_cell_type": "markdown",
    "tags": []
   },
   "source": [
    "## Heroku"
   ]
  },
  {
   "cell_type": "markdown",
   "metadata": {
    "cell_id": "00102-bf739cad-8646-4a35-8267-6def44ae5565",
    "deepnote_cell_type": "markdown",
    "tags": []
   },
   "source": [
    "[Heroku](https://www.heroku.com/) is a platform as a service (PaaS) that enables developers to build, run, and operate applications entirely in the cloud. We are going to deploy our `Flask` app to Heroku **for free**."
   ]
  },
  {
   "cell_type": "markdown",
   "metadata": {
    "cell_id": "00103-0d24e1d9-8911-44ef-a68a-b0df8d27b3c4",
    "deepnote_cell_type": "markdown",
    "tags": []
   },
   "source": [
    "### Create Heroku account"
   ]
  },
  {
   "cell_type": "markdown",
   "metadata": {
    "cell_id": "00104-323db69f-7e22-4795-a6f7-bd333aefc66c",
    "deepnote_cell_type": "markdown",
    "tags": []
   },
   "source": [
    "**TO DO:** Please register a Heroku account. If you already have it, you can skip this section.\n",
    "\n",
    "1. Visit https://signup.heroku.com/\n",
    "2. Fill in the registration form:\n",
    "    - **First and last name**\n",
    "    - **Email address**: Make sure to register an active email\n",
    "    - **Company name** (optional): Algoritma\n",
    "    - **Role**: Student\n",
    "    - **Country**: Indonesia\n",
    "    - **Primary development language**: Python\n",
    "3. Fill in the captcha and click **Create Free Account**\n",
    "4. Check your email (folder inbox or spam) and **activate** your Heroku account by clicking the link\n",
    "5. Set your **password** and log in to Heroku\n",
    "6. You'll be redirected to the \"Terms of Service\" page. Scroll down and click **Accept**.\n",
    "7. Congratulations, you have successfully created a free Heroku account!"
   ]
  },
  {
   "cell_type": "markdown",
   "metadata": {
    "cell_id": "00105-69606fcd-e172-475f-9bc0-f5e4057b9542",
    "deepnote_cell_type": "markdown",
    "tags": []
   },
   "source": [
    "### Create Heroku app"
   ]
  },
  {
   "cell_type": "markdown",
   "metadata": {
    "cell_id": "00106-f7130d9c-9a50-4614-b98a-603ce2a376db",
    "deepnote_cell_type": "markdown",
    "tags": []
   },
   "source": [
    "**TO DO:** Create a new app on Heroku.\n",
    "\n",
    "1. In your [dashboard](https://dashboard.heroku.com/apps), click **Create new app** under **New**.\n",
    "\n",
    "![](assets/heroku/1_dashboard_heroku.png)\n",
    "\n",
    "2. Fill in the [Create New App](https://dashboard.heroku.com/new-app) form:\n",
    "    - **App name**: you can choose an arbitrary name, but please note that it must be **globally unique** on Heroku.\n",
    "    - **Region**: United States\n",
    "    - Click the **Create app** button\n",
    "\n",
    "![](assets/heroku/2_create_new_app.png)\n",
    "\n",
    "3. Congratulations, you have successfully created a new Heroku app."
   ]
  },
  {
   "cell_type": "markdown",
   "metadata": {
    "cell_id": "00107-4d628b4d-df6e-4cdf-88f0-32822d3fc8ce",
    "deepnote_cell_type": "markdown",
    "tags": []
   },
   "source": [
    "### Deploy the app"
   ]
  },
  {
   "cell_type": "markdown",
   "metadata": {
    "cell_id": "00108-6f2dd29b-f3e6-46a7-bfc3-c7a9bf35cf58",
    "deepnote_cell_type": "markdown",
    "tags": []
   },
   "source": [
    "**TO DO:** Deploy `Flask` app to Heroku\n",
    "\n",
    "1. Edit the value of variable `heroku_app_name` in `app.py` according to your Heroku application name in the previous step.\n",
    "\n",
    "2. Run `app.py` **locally** and access the **localhost** URL via browser. If done correctly, it will display the \"Bot is running\".\n",
    "\n",
    "3. Make sure the following files and folders are in your project folder, and ready for deployment:\n",
    "    - Folders:\n",
    "        - [ ] `data_input`: Dataset for analysis\n",
    "        - [ ] `template_text`: Text files for chat template\n",
    "    - Application-related Files:\n",
    "        - [ ] `app.py`: Main `Flask` application\n",
    "        - [ ] `bot_local.py`: Telegram bot\n",
    "    - Deployment-related Files:\n",
    "        - [ ] `.gitignore`: List of file extensions to be ignored when `git push` from local\n",
    "        - [ ] `Procfile`: Commands for app's dynos on Heroku\n",
    "        - [ ] `requirements.txt`: List of package dependencies to be installed on Heroku\n",
    "        - [ ] `runtime.txt`: Python version to be installed on Heroku\n",
    "\n",
    "4. Commit and push all files and folders to your own GitHub Repository.\n",
    "\n",
    "5. In Heroku, there are two options of deployment method: via Heroku CLI or GitHub.\n",
    "\n",
    "    We recommend you to use **GitHub** since it is the simplest method, but if you are comfortable with using Heroku CLI then go ahead by referring to the tutorial provided on [here](https://devcenter.heroku.com/articles/heroku-cli). If you are using Heroku for the first time, click **Connect to GitHub**.\n",
    "\n",
    "![](assets/heroku/3_deploy_app.png)\n",
    "\n",
    "6. After your Heroku and GitHub are connected, search for the repository to connect to. Click **Search** then **Connect**.\n",
    "\n",
    "![](assets/heroku/4_connect_to_github.png)\n",
    "\n",
    "7. **Optionally**, you can click Enable Automatic Deploys which will automatically re-deploy every time there are any changes to the GitHub Repository (less recommended if the code may contain an error).\n",
    "\n",
    "8. Click **Deploy Branch** to deploy the app and wait for Heroku to install Python and its dependencies (2-3 minutes).\n",
    "\n",
    "![](assets/heroku/5_deploy_github.png)\n",
    "\n",
    "9. Congratulations, your `Flask` app has been deployed to Heroku with URL: `https://<YOUR_APP_NAME>.herokuapp.com/`. Click **View** to open your application.\n",
    "\n",
    "![](assets/heroku/6_success_deploy.png)\n",
    "\n",
    "But wait... why does it says \"Application Error\" when we open the URL? :(\n",
    "\n",
    "**NOTE:** It is a good practice to see your application logs when an error happened. In the upper right corner of the page, click **View logs** under **More**.\n",
    "\n",
    "![](assets/heroku/7_view_logs.png)\n",
    "\n",
    "From the application logs, there is one line that states the following error:\n",
    "\n",
    "    app[web.1]: KeyError: 'TOKEN'\n",
    "\n",
    "Could you guess what caused the error to occur?"
   ]
  },
  {
   "cell_type": "markdown",
   "metadata": {
    "cell_id": "00109-5cfab6b3-1550-4ee6-a8fe-3acde8ec5c5b",
    "deepnote_cell_type": "markdown",
    "tags": []
   },
   "source": [
    "### Set Configuration Variables"
   ]
  },
  {
   "cell_type": "markdown",
   "metadata": {
    "cell_id": "00110-9045fb28-7489-438b-910a-68ef69ee9952",
    "deepnote_cell_type": "markdown",
    "tags": []
   },
   "source": [
    "If you remember, the `TOKEN` variable is stored inside the `.env` file which was not pushed to GitHub, as it contains a confidential key. Therefore our deployed application won't recognize the `TOKEN` value. \n",
    "\n",
    "**TO DO:** To resolve this problem, we have to set configuration variables on Heroku.\n",
    "\n",
    "1. Go to **Settings** menu and click **Reveal Config Vars**\n",
    "\n",
    "![](assets/heroku/8_config_vars.png)\n",
    "\n",
    "2. Enter the following information:\n",
    "    - For the KEY field, type `TOKEN`\n",
    "    - For the VALUE field, copy and paste the Telegram API Token given by BotFather (without quotation marks `\"`)\n",
    "\n",
    "3. Click **Add** and try to open the application again. If it displays \"Bot is running\", then congratulations, you have successfully deployed a Telegram bot. Now you can test how does your bot works.\n",
    "\n",
    "**NOTE:** Once deployed, the script `bot_local.py` cannot be run again because one API token can only be accessed by one connection (which is your Heroku app). If you wish to develop another bot functionality, you can refer to the next section **Common Issue**."
   ]
  },
  {
   "cell_type": "markdown",
   "metadata": {
    "cell_id": "00111-bdcd31d8-31b6-4db6-ac4e-1df0464af0af",
    "deepnote_cell_type": "markdown",
    "tags": []
   },
   "source": [
    "# (OPTIONAL) Common Issue"
   ]
  },
  {
   "cell_type": "markdown",
   "metadata": {
    "cell_id": "00112-0a39cd05-19f0-43b7-83ac-35aa22d146b7",
    "deepnote_cell_type": "markdown",
    "tags": []
   },
   "source": [
    "## Error\n",
    "\n",
    "```\n",
    "ERROR - TeleBot: \"A request to the Telegram API was unsuccessful. Error code: 409. Description: Conflict: can't use getUpdates method while webhook is active; use deleteWebhook to delete the webhook first\"\n",
    "```\n",
    "\n",
    "## Problem\n",
    "\n",
    "Your token was previously attached to the Heroku app via `bot.set_webhook()`. Polling mode (with `getUpdates`) can only be run once at a time **and only if** Webhook is not set. In conclusion, you cannot run `bot.polling()` in local with the same token after your code is successfully deployed.\n",
    "\n",
    "## Solution\n",
    "\n",
    "If you decided to develop another functionality for your main chatbot, it is recommended to create a second bot for development. Then **overwrite** the `TOKEN` variable as follows:\n",
    "\n",
    "```\n",
    "load_dotenv()\n",
    "TOKEN = os.environ['TOKEN'] # token for main chatbot\n",
    "TOKEN = \"...\" # token for the development chatbot\n",
    "bot = telebot.TeleBot(TOKEN)\n",
    "```\n",
    "\n",
    "If you are planning to re-deploy your main chatbot to Heroku after you finished the development phase in local mode using `bot.polling()`, don't forget to **remove the token for the development chatbot** from `app.py` as follows:\n",
    "\n",
    "```\n",
    "load_dotenv()\n",
    "TOKEN = os.environ['TOKEN'] # token for main chatbot\n",
    "bot = telebot.TeleBot(TOKEN)\n",
    "```\n",
    "\n",
    "If you already re-deploy the app then somehow forget to remove the token for the development chatbot from the previous step and you don't want to create a new bot account, the alternative solution is to **revoke the access token** so that the chatbot can be re-use for later development:\n",
    "\n",
    "1. Go to BotFather: http://t.me/BotFather\n",
    "2. Use the command `/revoke`\n",
    "3. Choose your development bot username\n",
    "4. BotFather will reset the TOKEN"
   ]
  }
 ],
 "metadata": {
  "deepnote": {
   "is_reactive": false
  },
  "deepnote_execution_queue": [],
  "deepnote_notebook_id": "72cfd8e6-ebbd-4e48-a3e1-6b3347e78df3",
  "interpreter": {
   "hash": "193014ec1bc7b0afd8e4a71930aa077066e1cc8af29329df51a7db68f8c51223"
  },
  "kernelspec": {
   "display_name": "Python 3.8.12 64-bit ('capstone-telebot': conda)",
   "name": "python3"
  },
  "language_info": {
   "codemirror_mode": {
    "name": "ipython",
    "version": 3
   },
   "file_extension": ".py",
   "mimetype": "text/x-python",
   "name": "python",
   "nbconvert_exporter": "python",
   "pygments_lexer": "ipython3",
   "version": "3.8.12"
  },
  "toc": {
   "base_numbering": 1,
   "nav_menu": {},
   "number_sections": true,
   "sideBar": true,
   "skip_h1_title": false,
   "title_cell": "Table of Contents",
   "title_sidebar": "Contents",
   "toc_cell": false,
   "toc_position": {},
   "toc_section_display": true,
   "toc_window_display": false
  }
 },
 "nbformat": 4,
 "nbformat_minor": 2
}
